{
 "cells": [
  {
   "cell_type": "markdown",
   "metadata": {},
   "source": [
    "# MOVIE RECOMMENDER SYSTEMS\n",
    "## CONTENT-BASED AND COLLABORATIVE FILTERING-BASED METHODS"
   ]
  },
  {
   "cell_type": "markdown",
   "metadata": {},
   "source": [
    "Recommendations systems are used for making product recommendations for a number of applications such as online shopping, suggesting interesting web sites, or helping people find music and movies. Recommendation systems search for people who share tastes and make automatic recommendations based on things that similar people like.\n",
    "Recommendation systems are used not only for movies, but on multiple other products and services like Amazon (Books, Items), Pandora/Spotify (Music), Google (News, Search), YouTube (Videos) etc."
   ]
  },
  {
   "cell_type": "markdown",
   "metadata": {},
   "source": [
    "Content-Based Recommenders rely on the similarity of the items being recommended whereas Collaborative filtering produces recommendations based on the knowledge of users’ attitude to items."
   ]
  },
  {
   "cell_type": "markdown",
   "metadata": {},
   "source": [
    "## Data Sets Used"
   ]
  },
  {
   "cell_type": "markdown",
   "metadata": {},
   "source": [
    "The data sets used are two parts of the MovieLens dataset, to build a model to recommend movies to users. This data has been collected by the GroupLens Research Project at the University of Minnesota. \n",
    "\n",
    "\n",
    "For Content-based method, we have used:\n",
    "\n",
    "   1,000,000 ratings (1-5) from 6040 users on 3900 movies in the year 2000\n",
    "   Demographic information of the users (age, gender, occupation, etc.)\n",
    "\n",
    "\n",
    "\n",
    "For Collaborative Filtering-based method, we have used:\n",
    "\n",
    "   100,000 ratings (1-5) from 943 users on 1682 movies in the year 1998\n",
    "   Demographic information of the users (age, gender, occupation, etc.)\n",
    "\n",
    "\n",
    "We are using a smaller data set for collaborative filtering, as this method required a lot of processing power that is not available on a desktop / laptop."
   ]
  },
  {
   "cell_type": "code",
   "execution_count": 1,
   "metadata": {},
   "outputs": [],
   "source": [
    "import pandas as pd\n",
    "import numpy as np\n",
    "import matplotlib.pyplot as plt\n",
    "import matplotlib\n",
    "from sklearn.model_selection import train_test_split"
   ]
  },
  {
   "cell_type": "code",
   "execution_count": 2,
   "metadata": {},
   "outputs": [
    {
     "data": {
      "text/html": [
       "<div>\n",
       "<style scoped>\n",
       "    .dataframe tbody tr th:only-of-type {\n",
       "        vertical-align: middle;\n",
       "    }\n",
       "\n",
       "    .dataframe tbody tr th {\n",
       "        vertical-align: top;\n",
       "    }\n",
       "\n",
       "    .dataframe thead th {\n",
       "        text-align: right;\n",
       "    }\n",
       "</style>\n",
       "<table border=\"1\" class=\"dataframe\">\n",
       "  <thead>\n",
       "    <tr style=\"text-align: right;\">\n",
       "      <th></th>\n",
       "      <th>user_id</th>\n",
       "      <th>age</th>\n",
       "      <th>sex</th>\n",
       "      <th>occupation</th>\n",
       "      <th>zip_code</th>\n",
       "    </tr>\n",
       "  </thead>\n",
       "  <tbody>\n",
       "    <tr>\n",
       "      <th>0</th>\n",
       "      <td>1</td>\n",
       "      <td>24</td>\n",
       "      <td>M</td>\n",
       "      <td>technician</td>\n",
       "      <td>85711</td>\n",
       "    </tr>\n",
       "    <tr>\n",
       "      <th>1</th>\n",
       "      <td>2</td>\n",
       "      <td>53</td>\n",
       "      <td>F</td>\n",
       "      <td>other</td>\n",
       "      <td>94043</td>\n",
       "    </tr>\n",
       "    <tr>\n",
       "      <th>2</th>\n",
       "      <td>3</td>\n",
       "      <td>23</td>\n",
       "      <td>M</td>\n",
       "      <td>writer</td>\n",
       "      <td>32067</td>\n",
       "    </tr>\n",
       "    <tr>\n",
       "      <th>3</th>\n",
       "      <td>4</td>\n",
       "      <td>24</td>\n",
       "      <td>M</td>\n",
       "      <td>technician</td>\n",
       "      <td>43537</td>\n",
       "    </tr>\n",
       "    <tr>\n",
       "      <th>4</th>\n",
       "      <td>5</td>\n",
       "      <td>33</td>\n",
       "      <td>F</td>\n",
       "      <td>other</td>\n",
       "      <td>15213</td>\n",
       "    </tr>\n",
       "  </tbody>\n",
       "</table>\n",
       "</div>"
      ],
      "text/plain": [
       "   user_id  age sex  occupation zip_code\n",
       "0        1   24   M  technician    85711\n",
       "1        2   53   F       other    94043\n",
       "2        3   23   M      writer    32067\n",
       "3        4   24   M  technician    43537\n",
       "4        5   33   F       other    15213"
      ]
     },
     "execution_count": 2,
     "metadata": {},
     "output_type": "execute_result"
    }
   ],
   "source": [
    "#Reading users file:\n",
    "u_cols = ['user_id', 'age', 'sex', 'occupation', 'zip_code']\n",
    "users = pd.read_csv('u.user', sep='|', names=u_cols,encoding='latin-1')\n",
    "users.head()"
   ]
  },
  {
   "cell_type": "code",
   "execution_count": 3,
   "metadata": {},
   "outputs": [
    {
     "data": {
      "text/html": [
       "<div>\n",
       "<style scoped>\n",
       "    .dataframe tbody tr th:only-of-type {\n",
       "        vertical-align: middle;\n",
       "    }\n",
       "\n",
       "    .dataframe tbody tr th {\n",
       "        vertical-align: top;\n",
       "    }\n",
       "\n",
       "    .dataframe thead th {\n",
       "        text-align: right;\n",
       "    }\n",
       "</style>\n",
       "<table border=\"1\" class=\"dataframe\">\n",
       "  <thead>\n",
       "    <tr style=\"text-align: right;\">\n",
       "      <th></th>\n",
       "      <th>user_id</th>\n",
       "      <th>movie_id</th>\n",
       "      <th>rating</th>\n",
       "    </tr>\n",
       "  </thead>\n",
       "  <tbody>\n",
       "    <tr>\n",
       "      <th>0</th>\n",
       "      <td>196</td>\n",
       "      <td>242</td>\n",
       "      <td>3</td>\n",
       "    </tr>\n",
       "    <tr>\n",
       "      <th>1</th>\n",
       "      <td>186</td>\n",
       "      <td>302</td>\n",
       "      <td>3</td>\n",
       "    </tr>\n",
       "    <tr>\n",
       "      <th>2</th>\n",
       "      <td>22</td>\n",
       "      <td>377</td>\n",
       "      <td>1</td>\n",
       "    </tr>\n",
       "    <tr>\n",
       "      <th>3</th>\n",
       "      <td>244</td>\n",
       "      <td>51</td>\n",
       "      <td>2</td>\n",
       "    </tr>\n",
       "    <tr>\n",
       "      <th>4</th>\n",
       "      <td>166</td>\n",
       "      <td>346</td>\n",
       "      <td>1</td>\n",
       "    </tr>\n",
       "  </tbody>\n",
       "</table>\n",
       "</div>"
      ],
      "text/plain": [
       "   user_id  movie_id  rating\n",
       "0      196       242       3\n",
       "1      186       302       3\n",
       "2       22       377       1\n",
       "3      244        51       2\n",
       "4      166       346       1"
      ]
     },
     "execution_count": 3,
     "metadata": {},
     "output_type": "execute_result"
    }
   ],
   "source": [
    "#Reading ratings file:\n",
    "r_cols = ['user_id', 'movie_id', 'rating', 'unix_timestamp']\n",
    "ratings = pd.read_csv('u.data', sep='\\t', names=r_cols,encoding='latin-1')\n",
    "ratings = ratings.iloc[:,:3]\n",
    "ratings.head()"
   ]
  },
  {
   "cell_type": "code",
   "execution_count": 4,
   "metadata": {},
   "outputs": [
    {
     "data": {
      "text/html": [
       "<div>\n",
       "<style scoped>\n",
       "    .dataframe tbody tr th:only-of-type {\n",
       "        vertical-align: middle;\n",
       "    }\n",
       "\n",
       "    .dataframe tbody tr th {\n",
       "        vertical-align: top;\n",
       "    }\n",
       "\n",
       "    .dataframe thead th {\n",
       "        text-align: right;\n",
       "    }\n",
       "</style>\n",
       "<table border=\"1\" class=\"dataframe\">\n",
       "  <thead>\n",
       "    <tr style=\"text-align: right;\">\n",
       "      <th></th>\n",
       "      <th>movie_id</th>\n",
       "      <th>movie_title</th>\n",
       "    </tr>\n",
       "  </thead>\n",
       "  <tbody>\n",
       "    <tr>\n",
       "      <th>0</th>\n",
       "      <td>1</td>\n",
       "      <td>Toy Story (1995)</td>\n",
       "    </tr>\n",
       "    <tr>\n",
       "      <th>1</th>\n",
       "      <td>2</td>\n",
       "      <td>GoldenEye (1995)</td>\n",
       "    </tr>\n",
       "    <tr>\n",
       "      <th>2</th>\n",
       "      <td>3</td>\n",
       "      <td>Four Rooms (1995)</td>\n",
       "    </tr>\n",
       "    <tr>\n",
       "      <th>3</th>\n",
       "      <td>4</td>\n",
       "      <td>Get Shorty (1995)</td>\n",
       "    </tr>\n",
       "    <tr>\n",
       "      <th>4</th>\n",
       "      <td>5</td>\n",
       "      <td>Copycat (1995)</td>\n",
       "    </tr>\n",
       "  </tbody>\n",
       "</table>\n",
       "</div>"
      ],
      "text/plain": [
       "   movie_id        movie_title\n",
       "0         1   Toy Story (1995)\n",
       "1         2   GoldenEye (1995)\n",
       "2         3  Four Rooms (1995)\n",
       "3         4  Get Shorty (1995)\n",
       "4         5     Copycat (1995)"
      ]
     },
     "execution_count": 4,
     "metadata": {},
     "output_type": "execute_result"
    }
   ],
   "source": [
    "#Reading items file:\n",
    "i_cols = ['movie_id', 'movie_title' ,'release date','video release date', 'IMDb URL', 'unknown', 'Action', 'Adventure',\n",
    "'Animation', 'Children\\'s', 'Comedy', 'Crime', 'Documentary', 'Drama', 'Fantasy',\n",
    "'Film-Noir', 'Horror', 'Musical', 'Mystery', 'Romance', 'Sci-Fi', 'Thriller', 'War', 'Western']\n",
    "movies = pd.read_csv('u.item', sep='|', names=i_cols, encoding='latin-1')\n",
    "movies_df = movies.iloc[:,:2]\n",
    "movies_df.head()"
   ]
  },
  {
   "cell_type": "markdown",
   "metadata": {},
   "source": [
    "Checking the data sets for missing values"
   ]
  },
  {
   "cell_type": "code",
   "execution_count": 5,
   "metadata": {},
   "outputs": [
    {
     "data": {
      "text/plain": [
       "movie_id                 0\n",
       "movie_title              0\n",
       "release date             1\n",
       "video release date    1682\n",
       "IMDb URL                 3\n",
       "unknown                  0\n",
       "Action                   0\n",
       "Adventure                0\n",
       "Animation                0\n",
       "Children's               0\n",
       "Comedy                   0\n",
       "Crime                    0\n",
       "Documentary              0\n",
       "Drama                    0\n",
       "Fantasy                  0\n",
       "Film-Noir                0\n",
       "Horror                   0\n",
       "Musical                  0\n",
       "Mystery                  0\n",
       "Romance                  0\n",
       "Sci-Fi                   0\n",
       "Thriller                 0\n",
       "War                      0\n",
       "Western                  0\n",
       "dtype: int64"
      ]
     },
     "execution_count": 5,
     "metadata": {},
     "output_type": "execute_result"
    }
   ],
   "source": [
    "movies.isnull().sum()"
   ]
  },
  {
   "cell_type": "code",
   "execution_count": 6,
   "metadata": {},
   "outputs": [],
   "source": [
    "movies.drop(['video release date'], axis=1, inplace=True)"
   ]
  },
  {
   "cell_type": "code",
   "execution_count": 7,
   "metadata": {},
   "outputs": [
    {
     "data": {
      "text/plain": [
       "movie_id        0\n",
       "movie_title     0\n",
       "release date    1\n",
       "IMDb URL        3\n",
       "unknown         0\n",
       "Action          0\n",
       "Adventure       0\n",
       "Animation       0\n",
       "Children's      0\n",
       "Comedy          0\n",
       "Crime           0\n",
       "Documentary     0\n",
       "Drama           0\n",
       "Fantasy         0\n",
       "Film-Noir       0\n",
       "Horror          0\n",
       "Musical         0\n",
       "Mystery         0\n",
       "Romance         0\n",
       "Sci-Fi          0\n",
       "Thriller        0\n",
       "War             0\n",
       "Western         0\n",
       "dtype: int64"
      ]
     },
     "execution_count": 7,
     "metadata": {},
     "output_type": "execute_result"
    }
   ],
   "source": [
    "movies.isnull().sum()"
   ]
  },
  {
   "cell_type": "code",
   "execution_count": 8,
   "metadata": {},
   "outputs": [
    {
     "data": {
      "text/plain": [
       "user_id     0\n",
       "movie_id    0\n",
       "rating      0\n",
       "dtype: int64"
      ]
     },
     "execution_count": 8,
     "metadata": {},
     "output_type": "execute_result"
    }
   ],
   "source": [
    "ratings.isnull().sum()"
   ]
  },
  {
   "cell_type": "code",
   "execution_count": 9,
   "metadata": {},
   "outputs": [
    {
     "data": {
      "text/plain": [
       "user_id       0\n",
       "age           0\n",
       "sex           0\n",
       "occupation    0\n",
       "zip_code      0\n",
       "dtype: int64"
      ]
     },
     "execution_count": 9,
     "metadata": {},
     "output_type": "execute_result"
    }
   ],
   "source": [
    "users.isnull().sum()"
   ]
  },
  {
   "cell_type": "code",
   "execution_count": 10,
   "metadata": {},
   "outputs": [],
   "source": [
    "#Convert from dat to csv for easier operations\n",
    "#Declare a new csv file\n",
    "movie = pd.read_csv('movies.dat', \n",
    "                    sep='::', \n",
    "                    engine='python', \n",
    "                    encoding='latin-1',\n",
    "                    names=['movie_id', 'title', 'genres'])\n",
    "\n",
    "movie.to_csv('movies.csv', \n",
    "              sep='\\t', \n",
    "              header=True, \n",
    "              columns=['movie_id', 'title', 'genres'])"
   ]
  },
  {
   "cell_type": "markdown",
   "metadata": {},
   "source": [
    "We will use the data set of 1 Million users for this pupose"
   ]
  },
  {
   "cell_type": "code",
   "execution_count": 11,
   "metadata": {},
   "outputs": [
    {
     "data": {
      "text/html": [
       "<div>\n",
       "<style scoped>\n",
       "    .dataframe tbody tr th:only-of-type {\n",
       "        vertical-align: middle;\n",
       "    }\n",
       "\n",
       "    .dataframe tbody tr th {\n",
       "        vertical-align: top;\n",
       "    }\n",
       "\n",
       "    .dataframe thead th {\n",
       "        text-align: right;\n",
       "    }\n",
       "</style>\n",
       "<table border=\"1\" class=\"dataframe\">\n",
       "  <thead>\n",
       "    <tr style=\"text-align: right;\">\n",
       "      <th></th>\n",
       "      <th>movie_id</th>\n",
       "      <th>title</th>\n",
       "      <th>genres</th>\n",
       "    </tr>\n",
       "  </thead>\n",
       "  <tbody>\n",
       "    <tr>\n",
       "      <th>0</th>\n",
       "      <td>1</td>\n",
       "      <td>Toy Story (1995)</td>\n",
       "      <td>Animation|Children's|Comedy</td>\n",
       "    </tr>\n",
       "    <tr>\n",
       "      <th>1</th>\n",
       "      <td>2</td>\n",
       "      <td>Jumanji (1995)</td>\n",
       "      <td>Adventure|Children's|Fantasy</td>\n",
       "    </tr>\n",
       "    <tr>\n",
       "      <th>2</th>\n",
       "      <td>3</td>\n",
       "      <td>Grumpier Old Men (1995)</td>\n",
       "      <td>Comedy|Romance</td>\n",
       "    </tr>\n",
       "    <tr>\n",
       "      <th>3</th>\n",
       "      <td>4</td>\n",
       "      <td>Waiting to Exhale (1995)</td>\n",
       "      <td>Comedy|Drama</td>\n",
       "    </tr>\n",
       "    <tr>\n",
       "      <th>4</th>\n",
       "      <td>5</td>\n",
       "      <td>Father of the Bride Part II (1995)</td>\n",
       "      <td>Comedy</td>\n",
       "    </tr>\n",
       "  </tbody>\n",
       "</table>\n",
       "</div>"
      ],
      "text/plain": [
       "   movie_id                               title                        genres\n",
       "0         1                    Toy Story (1995)   Animation|Children's|Comedy\n",
       "1         2                      Jumanji (1995)  Adventure|Children's|Fantasy\n",
       "2         3             Grumpier Old Men (1995)                Comedy|Romance\n",
       "3         4            Waiting to Exhale (1995)                  Comedy|Drama\n",
       "4         5  Father of the Bride Part II (1995)                        Comedy"
      ]
     },
     "execution_count": 11,
     "metadata": {},
     "output_type": "execute_result"
    }
   ],
   "source": [
    "movie = pd.read_csv('movies.csv', sep='\\t', encoding='latin-1', usecols=['movie_id', 'title', 'genres'])\n",
    "movie.head()"
   ]
  },
  {
   "cell_type": "code",
   "execution_count": 12,
   "metadata": {},
   "outputs": [
    {
     "data": {
      "text/html": [
       "<div>\n",
       "<style scoped>\n",
       "    .dataframe tbody tr th:only-of-type {\n",
       "        vertical-align: middle;\n",
       "    }\n",
       "\n",
       "    .dataframe tbody tr th {\n",
       "        vertical-align: top;\n",
       "    }\n",
       "\n",
       "    .dataframe thead th {\n",
       "        text-align: right;\n",
       "    }\n",
       "</style>\n",
       "<table border=\"1\" class=\"dataframe\">\n",
       "  <thead>\n",
       "    <tr style=\"text-align: right;\">\n",
       "      <th></th>\n",
       "      <th>movie_id</th>\n",
       "      <th>title</th>\n",
       "      <th>genres</th>\n",
       "    </tr>\n",
       "  </thead>\n",
       "  <tbody>\n",
       "    <tr>\n",
       "      <th>0</th>\n",
       "      <td>1</td>\n",
       "      <td>Toy Story (1995)</td>\n",
       "      <td>['Animation', \"Children's\", 'Comedy']</td>\n",
       "    </tr>\n",
       "    <tr>\n",
       "      <th>1</th>\n",
       "      <td>2</td>\n",
       "      <td>Jumanji (1995)</td>\n",
       "      <td>['Adventure', \"Children's\", 'Fantasy']</td>\n",
       "    </tr>\n",
       "    <tr>\n",
       "      <th>2</th>\n",
       "      <td>3</td>\n",
       "      <td>Grumpier Old Men (1995)</td>\n",
       "      <td>['Comedy', 'Romance']</td>\n",
       "    </tr>\n",
       "    <tr>\n",
       "      <th>3</th>\n",
       "      <td>4</td>\n",
       "      <td>Waiting to Exhale (1995)</td>\n",
       "      <td>['Comedy', 'Drama']</td>\n",
       "    </tr>\n",
       "    <tr>\n",
       "      <th>4</th>\n",
       "      <td>5</td>\n",
       "      <td>Father of the Bride Part II (1995)</td>\n",
       "      <td>['Comedy']</td>\n",
       "    </tr>\n",
       "  </tbody>\n",
       "</table>\n",
       "</div>"
      ],
      "text/plain": [
       "   movie_id                               title  \\\n",
       "0         1                    Toy Story (1995)   \n",
       "1         2                      Jumanji (1995)   \n",
       "2         3             Grumpier Old Men (1995)   \n",
       "3         4            Waiting to Exhale (1995)   \n",
       "4         5  Father of the Bride Part II (1995)   \n",
       "\n",
       "                                   genres  \n",
       "0   ['Animation', \"Children's\", 'Comedy']  \n",
       "1  ['Adventure', \"Children's\", 'Fantasy']  \n",
       "2                   ['Comedy', 'Romance']  \n",
       "3                     ['Comedy', 'Drama']  \n",
       "4                              ['Comedy']  "
      ]
     },
     "execution_count": 12,
     "metadata": {},
     "output_type": "execute_result"
    }
   ],
   "source": [
    "movie['genres'] = movie['genres'].str.split('|')\n",
    "movie['genres'] = movie['genres'].fillna(\"\").astype('str')\n",
    "movie.head()"
   ]
  },
  {
   "cell_type": "markdown",
   "metadata": {},
   "source": [
    "## Content-Based Recommendation by Movie Genres\n",
    "\n",
    "We will use the data set of 1 Million users for this pupose"
   ]
  },
  {
   "cell_type": "markdown",
   "metadata": {},
   "source": [
    "We will use TfidfVectorizer to transform text in the genre column to feature vectors"
   ]
  },
  {
   "cell_type": "code",
   "execution_count": 13,
   "metadata": {},
   "outputs": [
    {
     "data": {
      "text/plain": [
       "(3883, 127)"
      ]
     },
     "execution_count": 13,
     "metadata": {},
     "output_type": "execute_result"
    }
   ],
   "source": [
    "from sklearn.feature_extraction.text import TfidfVectorizer\n",
    "tf = TfidfVectorizer(analyzer='word',ngram_range=(1, 2),min_df=0, stop_words='english')\n",
    "tfidf_matrix = tf.fit_transform(movie['genres'])\n",
    "tfidf_matrix.shape"
   ]
  },
  {
   "cell_type": "markdown",
   "metadata": {},
   "source": [
    "We will use the Cosine Similarity to calculate the similarity between two movies. Since we have used the TF-IDF Vectorizer, calculating the Dot Product will directly give us the Cosine Similarity Score. We will use the faster linear_kernel to compute the cosine similarities."
   ]
  },
  {
   "cell_type": "code",
   "execution_count": 14,
   "metadata": {},
   "outputs": [
    {
     "data": {
      "text/plain": [
       "array([[1.        , 0.14193614, 0.09010857, 0.1056164 ],\n",
       "       [0.14193614, 1.        , 0.        , 0.        ],\n",
       "       [0.09010857, 0.        , 1.        , 0.1719888 ],\n",
       "       [0.1056164 , 0.        , 0.1719888 , 1.        ]])"
      ]
     },
     "execution_count": 14,
     "metadata": {},
     "output_type": "execute_result"
    }
   ],
   "source": [
    "from sklearn.metrics.pairwise import linear_kernel\n",
    "cosine_sim = linear_kernel(tfidf_matrix, tfidf_matrix)\n",
    "cosine_sim[:4, :4]"
   ]
  },
  {
   "cell_type": "code",
   "execution_count": 15,
   "metadata": {},
   "outputs": [],
   "source": [
    "# Building a 1-dimensional array with movie titles\n",
    "titles = movie['title']\n",
    "indices = pd.Series(movie.index, index=movie['title'])"
   ]
  },
  {
   "cell_type": "code",
   "execution_count": 16,
   "metadata": {},
   "outputs": [
    {
     "data": {
      "text/plain": [
       "title\n",
       "Toy Story (1995)                      0\n",
       "Jumanji (1995)                        1\n",
       "Grumpier Old Men (1995)               2\n",
       "Waiting to Exhale (1995)              3\n",
       "Father of the Bride Part II (1995)    4\n",
       "dtype: int64"
      ]
     },
     "execution_count": 16,
     "metadata": {},
     "output_type": "execute_result"
    }
   ],
   "source": [
    "indices.head()"
   ]
  },
  {
   "cell_type": "markdown",
   "metadata": {},
   "source": [
    "We will now write a function that gets movie recommendations based on the cosine similarity score of movie genres"
   ]
  },
  {
   "cell_type": "code",
   "execution_count": 17,
   "metadata": {},
   "outputs": [],
   "source": [
    "def genre_recommendations(title):\n",
    "    idx = indices[title]\n",
    "    sim_scores = list(enumerate(cosine_sim[idx]))\n",
    "    sim_scores = sorted(sim_scores, key=lambda x: x[1], reverse=True)\n",
    "    sim_scores = sim_scores[1:21]\n",
    "    movie_indices = [i[0] for i in sim_scores]\n",
    "    return titles.iloc[movie_indices]"
   ]
  },
  {
   "cell_type": "markdown",
   "metadata": {},
   "source": [
    "### Movie Predictions"
   ]
  },
  {
   "cell_type": "code",
   "execution_count": 18,
   "metadata": {},
   "outputs": [
    {
     "data": {
      "text/plain": [
       "60     Eye for an Eye (1996)\n",
       "78         Juror, The (1996)\n",
       "90        Mary Reilly (1996)\n",
       "98          City Hall (1996)\n",
       "109       Taxi Driver (1976)\n",
       "Name: title, dtype: object"
      ]
     },
     "execution_count": 18,
     "metadata": {},
     "output_type": "execute_result"
    }
   ],
   "source": [
    "#Getting the top 5 Recommendations by Genres\n",
    "#Drama movies\n",
    "genre_recommendations('Casino (1995)').head()"
   ]
  },
  {
   "cell_type": "code",
   "execution_count": 19,
   "metadata": {},
   "outputs": [
    {
     "data": {
      "text/plain": [
       "326                     Tales from the Hood (1995)\n",
       "726     Cemetery Man (Dellamorte Dellamore) (1994)\n",
       "789                        Frighteners, The (1996)\n",
       "1221                              Braindead (1992)\n",
       "1235                              Bad Taste (1987)\n",
       "Name: title, dtype: object"
      ]
     },
     "execution_count": 19,
     "metadata": {},
     "output_type": "execute_result"
    }
   ],
   "source": [
    "#Comedy-Horror movies\n",
    "genre_recommendations('Dracula: Dead and Loving It (1995)').head(5)"
   ]
  },
  {
   "cell_type": "code",
   "execution_count": 20,
   "metadata": {},
   "outputs": [
    {
     "data": {
      "text/plain": [
       "241      Gumby: The Movie (1995)\n",
       "310    Swan Princess, The (1994)\n",
       "592             Pinocchio (1940)\n",
       "612       Aristocats, The (1970)\n",
       "700      Oliver & Company (1988)\n",
       "Name: title, dtype: object"
      ]
     },
     "execution_count": 20,
     "metadata": {},
     "output_type": "execute_result"
    }
   ],
   "source": [
    "#Children's movies\n",
    "genre_recommendations('Balto (1995)').head(5)"
   ]
  },
  {
   "cell_type": "code",
   "execution_count": 21,
   "metadata": {},
   "outputs": [
    {
     "data": {
      "text/plain": [
       "345    Clear and Present Danger (1994)\n",
       "543          Surviving the Game (1994)\n",
       "724                   Rock, The (1996)\n",
       "788                    Daylight (1996)\n",
       "825              Chain Reaction (1996)\n",
       "Name: title, dtype: object"
      ]
     },
     "execution_count": 21,
     "metadata": {},
     "output_type": "execute_result"
    }
   ],
   "source": [
    "#Action movies\n",
    "genre_recommendations('GoldenEye (1995)').head(5)"
   ]
  },
  {
   "cell_type": "markdown",
   "metadata": {},
   "source": [
    "## Collaborative Filtering Recommendation"
   ]
  },
  {
   "cell_type": "code",
   "execution_count": 22,
   "metadata": {},
   "outputs": [],
   "source": [
    "from sklearn.metrics import pairwise_distances\n",
    "from scipy.spatial.distance import cosine, correlation"
   ]
  },
  {
   "cell_type": "code",
   "execution_count": 23,
   "metadata": {},
   "outputs": [
    {
     "name": "stdout",
     "output_type": "stream",
     "text": [
      "Number of users = 943 | Number of movies = 1682\n"
     ]
    }
   ],
   "source": [
    "n_users = ratings.user_id.unique().shape[0]\n",
    "n_items = ratings.movie_id.unique().shape[0]\n",
    "print('Number of users = ' + str(n_users) + ' | Number of movies = ' + str(n_items))"
   ]
  },
  {
   "cell_type": "markdown",
   "metadata": {},
   "source": [
    "### Splitting Data into Train and Test"
   ]
  },
  {
   "cell_type": "code",
   "execution_count": 24,
   "metadata": {},
   "outputs": [],
   "source": [
    "#Splitting the data into train and test\n",
    "from sklearn.model_selection import train_test_split as cv\n",
    "train_data, test_data = cv(ratings, test_size=0.2)"
   ]
  },
  {
   "cell_type": "markdown",
   "metadata": {},
   "source": [
    "### Calculation of user-user and item-item similarity"
   ]
  },
  {
   "cell_type": "code",
   "execution_count": 25,
   "metadata": {},
   "outputs": [],
   "source": [
    "#Create two user-item matrices, one for training and another for testing\n",
    "train_data_matrix = np.zeros((n_users, n_items))\n",
    "for line in train_data.itertuples():\n",
    "    train_data_matrix[line[1]-1, line[2]-1] = line[3]\n",
    "\n",
    "test_data_matrix = np.zeros((n_users, n_items))\n",
    "for line in test_data.itertuples():\n",
    "    test_data_matrix[line[1]-1, line[2]-1] = line[3]"
   ]
  },
  {
   "cell_type": "code",
   "execution_count": 26,
   "metadata": {},
   "outputs": [],
   "source": [
    "from sklearn.metrics.pairwise import pairwise_distances\n",
    "user_similarity = pairwise_distances(train_data_matrix, metric='cosine')\n",
    "item_similarity = pairwise_distances(train_data_matrix.T, metric='cosine')"
   ]
  },
  {
   "cell_type": "code",
   "execution_count": 27,
   "metadata": {},
   "outputs": [
    {
     "data": {
      "text/plain": [
       "array([[0.        , 0.86304655, 0.94553874, ..., 0.8786238 , 0.85672235,\n",
       "        0.66321845],\n",
       "       [0.86304655, 0.        , 0.90987993, ..., 0.84036572, 0.84585512,\n",
       "        0.90070085],\n",
       "       [0.94553874, 0.90987993, 0.        , ..., 0.90603564, 0.8884318 ,\n",
       "        0.96829197],\n",
       "       ...,\n",
       "       [0.8786238 , 0.84036572, 0.90603564, ..., 0.        , 0.88463855,\n",
       "        0.95686042],\n",
       "       [0.85672235, 0.84585512, 0.8884318 , ..., 0.88463855, 0.        ,\n",
       "        0.87882432],\n",
       "       [0.66321845, 0.90070085, 0.96829197, ..., 0.95686042, 0.87882432,\n",
       "        0.        ]])"
      ]
     },
     "execution_count": 27,
     "metadata": {},
     "output_type": "execute_result"
    }
   ],
   "source": [
    "user_similarity"
   ]
  },
  {
   "cell_type": "code",
   "execution_count": 28,
   "metadata": {},
   "outputs": [
    {
     "data": {
      "text/plain": [
       "array([[0.        , 0.67621405, 0.75489237, ..., 1.        , 0.94793326,\n",
       "        1.        ],\n",
       "       [0.67621405, 0.        , 0.78833255, ..., 1.        , 0.9095466 ,\n",
       "        1.        ],\n",
       "       [0.75489237, 0.78833255, 0.        , ..., 1.        , 1.        ,\n",
       "        1.        ],\n",
       "       ...,\n",
       "       [1.        , 1.        , 1.        , ..., 0.        , 1.        ,\n",
       "        1.        ],\n",
       "       [0.94793326, 0.9095466 , 1.        , ..., 1.        , 0.        ,\n",
       "        1.        ],\n",
       "       [1.        , 1.        , 1.        , ..., 1.        , 1.        ,\n",
       "        0.        ]])"
      ]
     },
     "execution_count": 28,
     "metadata": {},
     "output_type": "execute_result"
    }
   ],
   "source": [
    "item_similarity"
   ]
  },
  {
   "cell_type": "code",
   "execution_count": 29,
   "metadata": {},
   "outputs": [],
   "source": [
    "#Function to calculate predictions\n",
    "def predict(ratings, similarity, type='user'):\n",
    "    if type == 'user':\n",
    "        mean_user_rating = ratings.mean(axis=1)\n",
    "        #You use np.newaxis so that mean_user_rating has same format as ratings\n",
    "        ratings_diff = (ratings - mean_user_rating[:, np.newaxis])\n",
    "        pred = mean_user_rating[:, np.newaxis] + similarity.dot(ratings_diff) / np.array([np.abs(similarity).sum(axis=1)]).T\n",
    "    elif type == 'item':\n",
    "        pred = ratings.dot(similarity) / np.array([np.abs(similarity).sum(axis=1)])\n",
    "    return pred"
   ]
  },
  {
   "cell_type": "code",
   "execution_count": 30,
   "metadata": {},
   "outputs": [],
   "source": [
    "item_prediction = predict(train_data_matrix, item_similarity, type='item')\n",
    "user_prediction = predict(train_data_matrix, user_similarity, type='user')"
   ]
  },
  {
   "cell_type": "markdown",
   "metadata": {},
   "source": [
    "### Evaluation of the model"
   ]
  },
  {
   "cell_type": "markdown",
   "metadata": {},
   "source": [
    "We will use the mean_square_error (MSE) function from sklearn to evaluate the model, where the RMSE is just the square root of MSE."
   ]
  },
  {
   "cell_type": "code",
   "execution_count": 31,
   "metadata": {},
   "outputs": [],
   "source": [
    "from sklearn.metrics import mean_squared_error\n",
    "from math import sqrt\n",
    "def rmse(prediction, ground_truth):\n",
    "    prediction = prediction[ground_truth.nonzero()].flatten()\n",
    "    ground_truth = ground_truth[ground_truth.nonzero()].flatten()\n",
    "    return sqrt(mean_squared_error(prediction, ground_truth))"
   ]
  },
  {
   "cell_type": "code",
   "execution_count": 32,
   "metadata": {},
   "outputs": [
    {
     "name": "stdout",
     "output_type": "stream",
     "text": [
      "User-based CF RMSE: 3.0911318859496077\n",
      "Item-based CF RMSE: 3.440351699169376\n"
     ]
    }
   ],
   "source": [
    "print('User-based CF RMSE: ' + str(rmse(user_prediction, test_data_matrix)))\n",
    "print('Item-based CF RMSE: ' + str(rmse(item_prediction, test_data_matrix)))"
   ]
  },
  {
   "cell_type": "code",
   "execution_count": 33,
   "metadata": {},
   "outputs": [
    {
     "name": "stdout",
     "output_type": "stream",
     "text": [
      "User-based CF RMSE: 3.0949994154659195\n",
      "Item-based CF RMSE: 3.442813726446624\n"
     ]
    }
   ],
   "source": [
    "print('User-based CF RMSE: ' + str(rmse(user_prediction, train_data_matrix)))\n",
    "print('Item-based CF RMSE: ' + str(rmse(item_prediction, train_data_matrix)))"
   ]
  },
  {
   "cell_type": "markdown",
   "metadata": {},
   "source": [
    "From the above, we can see that the user-based collaborative filtering gives a slightly better result."
   ]
  },
  {
   "cell_type": "markdown",
   "metadata": {},
   "source": [
    "## Functions for checking movie recommendations"
   ]
  },
  {
   "cell_type": "code",
   "execution_count": 34,
   "metadata": {},
   "outputs": [],
   "source": [
    "# Creating a Pivot Tables for user-user and item-item similarity on the entire data set\n",
    "user_movies_df = ratings.pivot(index='user_id', columns='movie_id', values = \"rating\" ).reset_index(drop=True)\n",
    "movies_user_df = ratings.pivot( index='movie_id', columns='user_id', values = \"rating\" ).reset_index(drop=True)"
   ]
  },
  {
   "cell_type": "code",
   "execution_count": 35,
   "metadata": {},
   "outputs": [],
   "source": [
    "# Appending '0' to ratings not given by users\n",
    "user_movies_df.fillna(0, inplace = True)\n",
    "movies_user_df.fillna(0, inplace = True)"
   ]
  },
  {
   "cell_type": "code",
   "execution_count": 36,
   "metadata": {},
   "outputs": [
    {
     "name": "stdout",
     "output_type": "stream",
     "text": [
      "(943, 1682)\n",
      "(1682, 943)\n"
     ]
    }
   ],
   "source": [
    "print(user_movies_df.shape)\n",
    "print(movies_user_df.shape)"
   ]
  },
  {
   "cell_type": "code",
   "execution_count": 37,
   "metadata": {},
   "outputs": [
    {
     "data": {
      "text/html": [
       "<div>\n",
       "<style scoped>\n",
       "    .dataframe tbody tr th:only-of-type {\n",
       "        vertical-align: middle;\n",
       "    }\n",
       "\n",
       "    .dataframe tbody tr th {\n",
       "        vertical-align: top;\n",
       "    }\n",
       "\n",
       "    .dataframe thead th {\n",
       "        text-align: right;\n",
       "    }\n",
       "</style>\n",
       "<table border=\"1\" class=\"dataframe\">\n",
       "  <thead>\n",
       "    <tr style=\"text-align: right;\">\n",
       "      <th>movie_id</th>\n",
       "      <th>21</th>\n",
       "      <th>22</th>\n",
       "      <th>23</th>\n",
       "      <th>24</th>\n",
       "      <th>25</th>\n",
       "    </tr>\n",
       "  </thead>\n",
       "  <tbody>\n",
       "    <tr>\n",
       "      <th>10</th>\n",
       "      <td>0.0</td>\n",
       "      <td>4.0</td>\n",
       "      <td>0.0</td>\n",
       "      <td>3.0</td>\n",
       "      <td>3.0</td>\n",
       "    </tr>\n",
       "    <tr>\n",
       "      <th>11</th>\n",
       "      <td>0.0</td>\n",
       "      <td>0.0</td>\n",
       "      <td>0.0</td>\n",
       "      <td>0.0</td>\n",
       "      <td>0.0</td>\n",
       "    </tr>\n",
       "    <tr>\n",
       "      <th>12</th>\n",
       "      <td>3.0</td>\n",
       "      <td>4.0</td>\n",
       "      <td>5.0</td>\n",
       "      <td>1.0</td>\n",
       "      <td>1.0</td>\n",
       "    </tr>\n",
       "    <tr>\n",
       "      <th>13</th>\n",
       "      <td>0.0</td>\n",
       "      <td>3.0</td>\n",
       "      <td>5.0</td>\n",
       "      <td>0.0</td>\n",
       "      <td>2.0</td>\n",
       "    </tr>\n",
       "    <tr>\n",
       "      <th>14</th>\n",
       "      <td>0.0</td>\n",
       "      <td>0.0</td>\n",
       "      <td>0.0</td>\n",
       "      <td>0.0</td>\n",
       "      <td>3.0</td>\n",
       "    </tr>\n",
       "  </tbody>\n",
       "</table>\n",
       "</div>"
      ],
      "text/plain": [
       "movie_id   21   22   23   24   25\n",
       "10        0.0  4.0  0.0  3.0  3.0\n",
       "11        0.0  0.0  0.0  0.0  0.0\n",
       "12        3.0  4.0  5.0  1.0  1.0\n",
       "13        0.0  3.0  5.0  0.0  2.0\n",
       "14        0.0  0.0  0.0  0.0  3.0"
      ]
     },
     "execution_count": 37,
     "metadata": {},
     "output_type": "execute_result"
    }
   ],
   "source": [
    "#Sample of the Pivot table\n",
    "user_movies_df.iloc[10:15, 20:25]"
   ]
  },
  {
   "cell_type": "code",
   "execution_count": 38,
   "metadata": {},
   "outputs": [
    {
     "data": {
      "text/html": [
       "<div>\n",
       "<style scoped>\n",
       "    .dataframe tbody tr th:only-of-type {\n",
       "        vertical-align: middle;\n",
       "    }\n",
       "\n",
       "    .dataframe tbody tr th {\n",
       "        vertical-align: top;\n",
       "    }\n",
       "\n",
       "    .dataframe thead th {\n",
       "        text-align: right;\n",
       "    }\n",
       "</style>\n",
       "<table border=\"1\" class=\"dataframe\">\n",
       "  <thead>\n",
       "    <tr style=\"text-align: right;\">\n",
       "      <th>user_id</th>\n",
       "      <th>21</th>\n",
       "      <th>22</th>\n",
       "      <th>23</th>\n",
       "      <th>24</th>\n",
       "      <th>25</th>\n",
       "    </tr>\n",
       "  </thead>\n",
       "  <tbody>\n",
       "    <tr>\n",
       "      <th>10</th>\n",
       "      <td>0.0</td>\n",
       "      <td>0.0</td>\n",
       "      <td>0.0</td>\n",
       "      <td>5.0</td>\n",
       "      <td>0.0</td>\n",
       "    </tr>\n",
       "    <tr>\n",
       "      <th>11</th>\n",
       "      <td>0.0</td>\n",
       "      <td>0.0</td>\n",
       "      <td>0.0</td>\n",
       "      <td>5.0</td>\n",
       "      <td>0.0</td>\n",
       "    </tr>\n",
       "    <tr>\n",
       "      <th>12</th>\n",
       "      <td>0.0</td>\n",
       "      <td>0.0</td>\n",
       "      <td>4.0</td>\n",
       "      <td>0.0</td>\n",
       "      <td>4.0</td>\n",
       "    </tr>\n",
       "    <tr>\n",
       "      <th>13</th>\n",
       "      <td>0.0</td>\n",
       "      <td>0.0</td>\n",
       "      <td>4.0</td>\n",
       "      <td>0.0</td>\n",
       "      <td>0.0</td>\n",
       "    </tr>\n",
       "    <tr>\n",
       "      <th>14</th>\n",
       "      <td>4.0</td>\n",
       "      <td>0.0</td>\n",
       "      <td>0.0</td>\n",
       "      <td>0.0</td>\n",
       "      <td>0.0</td>\n",
       "    </tr>\n",
       "  </tbody>\n",
       "</table>\n",
       "</div>"
      ],
      "text/plain": [
       "user_id   21   22   23   24   25\n",
       "10       0.0  0.0  0.0  5.0  0.0\n",
       "11       0.0  0.0  0.0  5.0  0.0\n",
       "12       0.0  0.0  4.0  0.0  4.0\n",
       "13       0.0  0.0  4.0  0.0  0.0\n",
       "14       4.0  0.0  0.0  0.0  0.0"
      ]
     },
     "execution_count": 38,
     "metadata": {},
     "output_type": "execute_result"
    }
   ],
   "source": [
    "#Sample of the Pivot table\n",
    "movies_user_df.iloc[10:15, 20:25]"
   ]
  },
  {
   "cell_type": "markdown",
   "metadata": {},
   "source": [
    "### Checking movies from user-user similarity"
   ]
  },
  {
   "cell_type": "code",
   "execution_count": 39,
   "metadata": {},
   "outputs": [
    {
     "name": "stderr",
     "output_type": "stream",
     "text": [
      "/home/abhi/anaconda3/lib/python3.7/site-packages/ipykernel_launcher.py:2: FutureWarning: Method .as_matrix will be removed in a future version. Use .values instead.\n",
      "  \n"
     ]
    }
   ],
   "source": [
    "#Calculation of user-user similarity\n",
    "user_sim = 1 - pairwise_distances(user_movies_df.as_matrix(), metric=\"cosine\" )"
   ]
  },
  {
   "cell_type": "code",
   "execution_count": 40,
   "metadata": {},
   "outputs": [],
   "source": [
    "user_sim_df = pd.DataFrame(user_sim)"
   ]
  },
  {
   "cell_type": "code",
   "execution_count": 41,
   "metadata": {},
   "outputs": [
    {
     "data": {
      "text/plain": [
       "(943, 943)"
      ]
     },
     "execution_count": 41,
     "metadata": {},
     "output_type": "execute_result"
    }
   ],
   "source": [
    "user_sim_df.shape"
   ]
  },
  {
   "cell_type": "code",
   "execution_count": 42,
   "metadata": {},
   "outputs": [
    {
     "data": {
      "text/html": [
       "<div>\n",
       "<style scoped>\n",
       "    .dataframe tbody tr th:only-of-type {\n",
       "        vertical-align: middle;\n",
       "    }\n",
       "\n",
       "    .dataframe tbody tr th {\n",
       "        vertical-align: top;\n",
       "    }\n",
       "\n",
       "    .dataframe thead th {\n",
       "        text-align: right;\n",
       "    }\n",
       "</style>\n",
       "<table border=\"1\" class=\"dataframe\">\n",
       "  <thead>\n",
       "    <tr style=\"text-align: right;\">\n",
       "      <th></th>\n",
       "      <th>0</th>\n",
       "      <th>1</th>\n",
       "      <th>2</th>\n",
       "      <th>3</th>\n",
       "      <th>4</th>\n",
       "      <th>5</th>\n",
       "      <th>6</th>\n",
       "      <th>7</th>\n",
       "      <th>8</th>\n",
       "      <th>9</th>\n",
       "      <th>...</th>\n",
       "      <th>933</th>\n",
       "      <th>934</th>\n",
       "      <th>935</th>\n",
       "      <th>936</th>\n",
       "      <th>937</th>\n",
       "      <th>938</th>\n",
       "      <th>939</th>\n",
       "      <th>940</th>\n",
       "      <th>941</th>\n",
       "      <th>942</th>\n",
       "    </tr>\n",
       "  </thead>\n",
       "  <tbody>\n",
       "    <tr>\n",
       "      <th>0</th>\n",
       "      <td>1.000000</td>\n",
       "      <td>0.166931</td>\n",
       "      <td>0.047460</td>\n",
       "      <td>0.064358</td>\n",
       "      <td>0.378475</td>\n",
       "      <td>0.430239</td>\n",
       "      <td>0.440367</td>\n",
       "      <td>0.319072</td>\n",
       "      <td>0.078138</td>\n",
       "      <td>0.376544</td>\n",
       "      <td>...</td>\n",
       "      <td>0.369527</td>\n",
       "      <td>0.119482</td>\n",
       "      <td>0.274876</td>\n",
       "      <td>0.189705</td>\n",
       "      <td>0.197326</td>\n",
       "      <td>0.118095</td>\n",
       "      <td>0.314072</td>\n",
       "      <td>0.148617</td>\n",
       "      <td>0.179508</td>\n",
       "      <td>0.398175</td>\n",
       "    </tr>\n",
       "    <tr>\n",
       "      <th>1</th>\n",
       "      <td>0.166931</td>\n",
       "      <td>1.000000</td>\n",
       "      <td>0.110591</td>\n",
       "      <td>0.178121</td>\n",
       "      <td>0.072979</td>\n",
       "      <td>0.245843</td>\n",
       "      <td>0.107328</td>\n",
       "      <td>0.103344</td>\n",
       "      <td>0.161048</td>\n",
       "      <td>0.159862</td>\n",
       "      <td>...</td>\n",
       "      <td>0.156986</td>\n",
       "      <td>0.307942</td>\n",
       "      <td>0.358789</td>\n",
       "      <td>0.424046</td>\n",
       "      <td>0.319889</td>\n",
       "      <td>0.228583</td>\n",
       "      <td>0.226790</td>\n",
       "      <td>0.161485</td>\n",
       "      <td>0.172268</td>\n",
       "      <td>0.105798</td>\n",
       "    </tr>\n",
       "    <tr>\n",
       "      <th>2</th>\n",
       "      <td>0.047460</td>\n",
       "      <td>0.110591</td>\n",
       "      <td>1.000000</td>\n",
       "      <td>0.344151</td>\n",
       "      <td>0.021245</td>\n",
       "      <td>0.072415</td>\n",
       "      <td>0.066137</td>\n",
       "      <td>0.083060</td>\n",
       "      <td>0.061040</td>\n",
       "      <td>0.065151</td>\n",
       "      <td>...</td>\n",
       "      <td>0.031875</td>\n",
       "      <td>0.042753</td>\n",
       "      <td>0.163829</td>\n",
       "      <td>0.069038</td>\n",
       "      <td>0.124245</td>\n",
       "      <td>0.026271</td>\n",
       "      <td>0.161890</td>\n",
       "      <td>0.101243</td>\n",
       "      <td>0.133416</td>\n",
       "      <td>0.026556</td>\n",
       "    </tr>\n",
       "    <tr>\n",
       "      <th>3</th>\n",
       "      <td>0.064358</td>\n",
       "      <td>0.178121</td>\n",
       "      <td>0.344151</td>\n",
       "      <td>1.000000</td>\n",
       "      <td>0.031804</td>\n",
       "      <td>0.068044</td>\n",
       "      <td>0.091230</td>\n",
       "      <td>0.188060</td>\n",
       "      <td>0.101284</td>\n",
       "      <td>0.060859</td>\n",
       "      <td>...</td>\n",
       "      <td>0.052107</td>\n",
       "      <td>0.036784</td>\n",
       "      <td>0.133115</td>\n",
       "      <td>0.193471</td>\n",
       "      <td>0.146058</td>\n",
       "      <td>0.030138</td>\n",
       "      <td>0.196858</td>\n",
       "      <td>0.152041</td>\n",
       "      <td>0.170086</td>\n",
       "      <td>0.058752</td>\n",
       "    </tr>\n",
       "    <tr>\n",
       "      <th>4</th>\n",
       "      <td>0.378475</td>\n",
       "      <td>0.072979</td>\n",
       "      <td>0.021245</td>\n",
       "      <td>0.031804</td>\n",
       "      <td>1.000000</td>\n",
       "      <td>0.237286</td>\n",
       "      <td>0.373600</td>\n",
       "      <td>0.248930</td>\n",
       "      <td>0.056847</td>\n",
       "      <td>0.201427</td>\n",
       "      <td>...</td>\n",
       "      <td>0.338794</td>\n",
       "      <td>0.080580</td>\n",
       "      <td>0.094924</td>\n",
       "      <td>0.079779</td>\n",
       "      <td>0.148607</td>\n",
       "      <td>0.071459</td>\n",
       "      <td>0.239955</td>\n",
       "      <td>0.139595</td>\n",
       "      <td>0.152497</td>\n",
       "      <td>0.313941</td>\n",
       "    </tr>\n",
       "  </tbody>\n",
       "</table>\n",
       "<p>5 rows × 943 columns</p>\n",
       "</div>"
      ],
      "text/plain": [
       "        0         1         2         3         4         5         6    \\\n",
       "0  1.000000  0.166931  0.047460  0.064358  0.378475  0.430239  0.440367   \n",
       "1  0.166931  1.000000  0.110591  0.178121  0.072979  0.245843  0.107328   \n",
       "2  0.047460  0.110591  1.000000  0.344151  0.021245  0.072415  0.066137   \n",
       "3  0.064358  0.178121  0.344151  1.000000  0.031804  0.068044  0.091230   \n",
       "4  0.378475  0.072979  0.021245  0.031804  1.000000  0.237286  0.373600   \n",
       "\n",
       "        7         8         9      ...          933       934       935  \\\n",
       "0  0.319072  0.078138  0.376544    ...     0.369527  0.119482  0.274876   \n",
       "1  0.103344  0.161048  0.159862    ...     0.156986  0.307942  0.358789   \n",
       "2  0.083060  0.061040  0.065151    ...     0.031875  0.042753  0.163829   \n",
       "3  0.188060  0.101284  0.060859    ...     0.052107  0.036784  0.133115   \n",
       "4  0.248930  0.056847  0.201427    ...     0.338794  0.080580  0.094924   \n",
       "\n",
       "        936       937       938       939       940       941       942  \n",
       "0  0.189705  0.197326  0.118095  0.314072  0.148617  0.179508  0.398175  \n",
       "1  0.424046  0.319889  0.228583  0.226790  0.161485  0.172268  0.105798  \n",
       "2  0.069038  0.124245  0.026271  0.161890  0.101243  0.133416  0.026556  \n",
       "3  0.193471  0.146058  0.030138  0.196858  0.152041  0.170086  0.058752  \n",
       "4  0.079779  0.148607  0.071459  0.239955  0.139595  0.152497  0.313941  \n",
       "\n",
       "[5 rows x 943 columns]"
      ]
     },
     "execution_count": 42,
     "metadata": {},
     "output_type": "execute_result"
    }
   ],
   "source": [
    "user_sim_df[0:5]"
   ]
  },
  {
   "cell_type": "code",
   "execution_count": 43,
   "metadata": {},
   "outputs": [
    {
     "data": {
      "text/plain": [
       "0    0\n",
       "1    1\n",
       "2    2\n",
       "3    3\n",
       "4    4\n",
       "dtype: int64"
      ]
     },
     "execution_count": 43,
     "metadata": {},
     "output_type": "execute_result"
    }
   ],
   "source": [
    "# Finding users with highest similarities\n",
    "user_sim_df.idxmax(axis=1)[0:5]"
   ]
  },
  {
   "cell_type": "code",
   "execution_count": 44,
   "metadata": {},
   "outputs": [
    {
     "data": {
      "text/html": [
       "<div>\n",
       "<style scoped>\n",
       "    .dataframe tbody tr th:only-of-type {\n",
       "        vertical-align: middle;\n",
       "    }\n",
       "\n",
       "    .dataframe tbody tr th {\n",
       "        vertical-align: top;\n",
       "    }\n",
       "\n",
       "    .dataframe thead th {\n",
       "        text-align: right;\n",
       "    }\n",
       "</style>\n",
       "<table border=\"1\" class=\"dataframe\">\n",
       "  <thead>\n",
       "    <tr style=\"text-align: right;\">\n",
       "      <th></th>\n",
       "      <th>0</th>\n",
       "      <th>1</th>\n",
       "      <th>2</th>\n",
       "      <th>3</th>\n",
       "      <th>4</th>\n",
       "      <th>5</th>\n",
       "      <th>6</th>\n",
       "      <th>7</th>\n",
       "      <th>8</th>\n",
       "      <th>9</th>\n",
       "      <th>...</th>\n",
       "      <th>933</th>\n",
       "      <th>934</th>\n",
       "      <th>935</th>\n",
       "      <th>936</th>\n",
       "      <th>937</th>\n",
       "      <th>938</th>\n",
       "      <th>939</th>\n",
       "      <th>940</th>\n",
       "      <th>941</th>\n",
       "      <th>942</th>\n",
       "    </tr>\n",
       "  </thead>\n",
       "  <tbody>\n",
       "    <tr>\n",
       "      <th>0</th>\n",
       "      <td>0.000000</td>\n",
       "      <td>0.166931</td>\n",
       "      <td>0.047460</td>\n",
       "      <td>0.064358</td>\n",
       "      <td>0.378475</td>\n",
       "      <td>0.430239</td>\n",
       "      <td>0.440367</td>\n",
       "      <td>0.319072</td>\n",
       "      <td>0.078138</td>\n",
       "      <td>0.376544</td>\n",
       "      <td>...</td>\n",
       "      <td>0.369527</td>\n",
       "      <td>0.119482</td>\n",
       "      <td>0.274876</td>\n",
       "      <td>0.189705</td>\n",
       "      <td>0.197326</td>\n",
       "      <td>0.118095</td>\n",
       "      <td>0.314072</td>\n",
       "      <td>0.148617</td>\n",
       "      <td>0.179508</td>\n",
       "      <td>0.398175</td>\n",
       "    </tr>\n",
       "    <tr>\n",
       "      <th>1</th>\n",
       "      <td>0.166931</td>\n",
       "      <td>0.000000</td>\n",
       "      <td>0.110591</td>\n",
       "      <td>0.178121</td>\n",
       "      <td>0.072979</td>\n",
       "      <td>0.245843</td>\n",
       "      <td>0.107328</td>\n",
       "      <td>0.103344</td>\n",
       "      <td>0.161048</td>\n",
       "      <td>0.159862</td>\n",
       "      <td>...</td>\n",
       "      <td>0.156986</td>\n",
       "      <td>0.307942</td>\n",
       "      <td>0.358789</td>\n",
       "      <td>0.424046</td>\n",
       "      <td>0.319889</td>\n",
       "      <td>0.228583</td>\n",
       "      <td>0.226790</td>\n",
       "      <td>0.161485</td>\n",
       "      <td>0.172268</td>\n",
       "      <td>0.105798</td>\n",
       "    </tr>\n",
       "    <tr>\n",
       "      <th>2</th>\n",
       "      <td>0.047460</td>\n",
       "      <td>0.110591</td>\n",
       "      <td>0.000000</td>\n",
       "      <td>0.344151</td>\n",
       "      <td>0.021245</td>\n",
       "      <td>0.072415</td>\n",
       "      <td>0.066137</td>\n",
       "      <td>0.083060</td>\n",
       "      <td>0.061040</td>\n",
       "      <td>0.065151</td>\n",
       "      <td>...</td>\n",
       "      <td>0.031875</td>\n",
       "      <td>0.042753</td>\n",
       "      <td>0.163829</td>\n",
       "      <td>0.069038</td>\n",
       "      <td>0.124245</td>\n",
       "      <td>0.026271</td>\n",
       "      <td>0.161890</td>\n",
       "      <td>0.101243</td>\n",
       "      <td>0.133416</td>\n",
       "      <td>0.026556</td>\n",
       "    </tr>\n",
       "    <tr>\n",
       "      <th>3</th>\n",
       "      <td>0.064358</td>\n",
       "      <td>0.178121</td>\n",
       "      <td>0.344151</td>\n",
       "      <td>0.000000</td>\n",
       "      <td>0.031804</td>\n",
       "      <td>0.068044</td>\n",
       "      <td>0.091230</td>\n",
       "      <td>0.188060</td>\n",
       "      <td>0.101284</td>\n",
       "      <td>0.060859</td>\n",
       "      <td>...</td>\n",
       "      <td>0.052107</td>\n",
       "      <td>0.036784</td>\n",
       "      <td>0.133115</td>\n",
       "      <td>0.193471</td>\n",
       "      <td>0.146058</td>\n",
       "      <td>0.030138</td>\n",
       "      <td>0.196858</td>\n",
       "      <td>0.152041</td>\n",
       "      <td>0.170086</td>\n",
       "      <td>0.058752</td>\n",
       "    </tr>\n",
       "    <tr>\n",
       "      <th>4</th>\n",
       "      <td>0.378475</td>\n",
       "      <td>0.072979</td>\n",
       "      <td>0.021245</td>\n",
       "      <td>0.031804</td>\n",
       "      <td>0.000000</td>\n",
       "      <td>0.237286</td>\n",
       "      <td>0.373600</td>\n",
       "      <td>0.248930</td>\n",
       "      <td>0.056847</td>\n",
       "      <td>0.201427</td>\n",
       "      <td>...</td>\n",
       "      <td>0.338794</td>\n",
       "      <td>0.080580</td>\n",
       "      <td>0.094924</td>\n",
       "      <td>0.079779</td>\n",
       "      <td>0.148607</td>\n",
       "      <td>0.071459</td>\n",
       "      <td>0.239955</td>\n",
       "      <td>0.139595</td>\n",
       "      <td>0.152497</td>\n",
       "      <td>0.313941</td>\n",
       "    </tr>\n",
       "  </tbody>\n",
       "</table>\n",
       "<p>5 rows × 943 columns</p>\n",
       "</div>"
      ],
      "text/plain": [
       "        0         1         2         3         4         5         6    \\\n",
       "0  0.000000  0.166931  0.047460  0.064358  0.378475  0.430239  0.440367   \n",
       "1  0.166931  0.000000  0.110591  0.178121  0.072979  0.245843  0.107328   \n",
       "2  0.047460  0.110591  0.000000  0.344151  0.021245  0.072415  0.066137   \n",
       "3  0.064358  0.178121  0.344151  0.000000  0.031804  0.068044  0.091230   \n",
       "4  0.378475  0.072979  0.021245  0.031804  0.000000  0.237286  0.373600   \n",
       "\n",
       "        7         8         9      ...          933       934       935  \\\n",
       "0  0.319072  0.078138  0.376544    ...     0.369527  0.119482  0.274876   \n",
       "1  0.103344  0.161048  0.159862    ...     0.156986  0.307942  0.358789   \n",
       "2  0.083060  0.061040  0.065151    ...     0.031875  0.042753  0.163829   \n",
       "3  0.188060  0.101284  0.060859    ...     0.052107  0.036784  0.133115   \n",
       "4  0.248930  0.056847  0.201427    ...     0.338794  0.080580  0.094924   \n",
       "\n",
       "        936       937       938       939       940       941       942  \n",
       "0  0.189705  0.197326  0.118095  0.314072  0.148617  0.179508  0.398175  \n",
       "1  0.424046  0.319889  0.228583  0.226790  0.161485  0.172268  0.105798  \n",
       "2  0.069038  0.124245  0.026271  0.161890  0.101243  0.133416  0.026556  \n",
       "3  0.193471  0.146058  0.030138  0.196858  0.152041  0.170086  0.058752  \n",
       "4  0.079779  0.148607  0.071459  0.239955  0.139595  0.152497  0.313941  \n",
       "\n",
       "[5 rows x 943 columns]"
      ]
     },
     "execution_count": 44,
     "metadata": {},
     "output_type": "execute_result"
    }
   ],
   "source": [
    "# According to the results, most users are similar to themselves\n",
    "# If we set the correlation with self to 0, we can avoid this issue\n",
    "\n",
    "np.fill_diagonal(user_sim, 0)\n",
    "user_sim_df = pd.DataFrame(user_sim)\n",
    "user_sim_df[0:5]"
   ]
  },
  {
   "cell_type": "code",
   "execution_count": 45,
   "metadata": {},
   "outputs": [
    {
     "data": {
      "text/plain": [
       "544    756\n",
       "309    246\n",
       "448    893\n",
       "628    537\n",
       "284    413\n",
       "572    693\n",
       "225    866\n",
       "567    311\n",
       "75     176\n",
       "726    496\n",
       "dtype: int64"
      ]
     },
     "execution_count": 45,
     "metadata": {},
     "output_type": "execute_result"
    }
   ],
   "source": [
    "#We can now see the top 10 users with highest similarities\n",
    "user_sim_df.idxmax(axis=1).sample(10, random_state = 10)"
   ]
  },
  {
   "cell_type": "code",
   "execution_count": 46,
   "metadata": {},
   "outputs": [],
   "source": [
    "#Function to get similar movies\n",
    "def get_user_similar_movies( user1, user2 ):\n",
    "  common_movies = ratings[ratings.user_id == user1].merge(ratings[ratings.user_id == user2], on = \"movie_id\", how = \"inner\" )\n",
    "  return common_movies.merge( movies_df, on = 'movie_id' )"
   ]
  },
  {
   "cell_type": "markdown",
   "metadata": {},
   "source": [
    "### Movie Predictions"
   ]
  },
  {
   "cell_type": "code",
   "execution_count": 47,
   "metadata": {},
   "outputs": [
    {
     "data": {
      "text/html": [
       "<div>\n",
       "<style scoped>\n",
       "    .dataframe tbody tr th:only-of-type {\n",
       "        vertical-align: middle;\n",
       "    }\n",
       "\n",
       "    .dataframe tbody tr th {\n",
       "        vertical-align: top;\n",
       "    }\n",
       "\n",
       "    .dataframe thead th {\n",
       "        text-align: right;\n",
       "    }\n",
       "</style>\n",
       "<table border=\"1\" class=\"dataframe\">\n",
       "  <thead>\n",
       "    <tr style=\"text-align: right;\">\n",
       "      <th></th>\n",
       "      <th>user_id_x</th>\n",
       "      <th>movie_id</th>\n",
       "      <th>rating_x</th>\n",
       "      <th>user_id_y</th>\n",
       "      <th>rating_y</th>\n",
       "      <th>movie_title</th>\n",
       "    </tr>\n",
       "  </thead>\n",
       "  <tbody>\n",
       "    <tr>\n",
       "      <th>0</th>\n",
       "      <td>572</td>\n",
       "      <td>300</td>\n",
       "      <td>4</td>\n",
       "      <td>693</td>\n",
       "      <td>2</td>\n",
       "      <td>Air Force One (1997)</td>\n",
       "    </tr>\n",
       "    <tr>\n",
       "      <th>1</th>\n",
       "      <td>572</td>\n",
       "      <td>289</td>\n",
       "      <td>3</td>\n",
       "      <td>693</td>\n",
       "      <td>3</td>\n",
       "      <td>Evita (1996)</td>\n",
       "    </tr>\n",
       "    <tr>\n",
       "      <th>2</th>\n",
       "      <td>572</td>\n",
       "      <td>121</td>\n",
       "      <td>2</td>\n",
       "      <td>693</td>\n",
       "      <td>2</td>\n",
       "      <td>Independence Day (ID4) (1996)</td>\n",
       "    </tr>\n",
       "    <tr>\n",
       "      <th>3</th>\n",
       "      <td>572</td>\n",
       "      <td>9</td>\n",
       "      <td>5</td>\n",
       "      <td>693</td>\n",
       "      <td>3</td>\n",
       "      <td>Dead Man Walking (1995)</td>\n",
       "    </tr>\n",
       "    <tr>\n",
       "      <th>4</th>\n",
       "      <td>572</td>\n",
       "      <td>222</td>\n",
       "      <td>2</td>\n",
       "      <td>693</td>\n",
       "      <td>2</td>\n",
       "      <td>Star Trek: First Contact (1996)</td>\n",
       "    </tr>\n",
       "  </tbody>\n",
       "</table>\n",
       "</div>"
      ],
      "text/plain": [
       "   user_id_x  movie_id  rating_x  user_id_y  rating_y  \\\n",
       "0        572       300         4        693         2   \n",
       "1        572       289         3        693         3   \n",
       "2        572       121         2        693         2   \n",
       "3        572         9         5        693         3   \n",
       "4        572       222         2        693         2   \n",
       "\n",
       "                       movie_title  \n",
       "0             Air Force One (1997)  \n",
       "1                     Evita (1996)  \n",
       "2    Independence Day (ID4) (1996)  \n",
       "3          Dead Man Walking (1995)  \n",
       "4  Star Trek: First Contact (1996)  "
      ]
     },
     "execution_count": 47,
     "metadata": {},
     "output_type": "execute_result"
    }
   ],
   "source": [
    "get_user_similar_movies(572, 693)"
   ]
  },
  {
   "cell_type": "code",
   "execution_count": 48,
   "metadata": {},
   "outputs": [
    {
     "data": {
      "text/html": [
       "<div>\n",
       "<style scoped>\n",
       "    .dataframe tbody tr th:only-of-type {\n",
       "        vertical-align: middle;\n",
       "    }\n",
       "\n",
       "    .dataframe tbody tr th {\n",
       "        vertical-align: top;\n",
       "    }\n",
       "\n",
       "    .dataframe thead th {\n",
       "        text-align: right;\n",
       "    }\n",
       "</style>\n",
       "<table border=\"1\" class=\"dataframe\">\n",
       "  <thead>\n",
       "    <tr style=\"text-align: right;\">\n",
       "      <th></th>\n",
       "      <th>user_id_x</th>\n",
       "      <th>movie_id</th>\n",
       "      <th>rating_x</th>\n",
       "      <th>user_id_y</th>\n",
       "      <th>rating_y</th>\n",
       "      <th>movie_title</th>\n",
       "    </tr>\n",
       "  </thead>\n",
       "  <tbody>\n",
       "    <tr>\n",
       "      <th>0</th>\n",
       "      <td>75</td>\n",
       "      <td>240</td>\n",
       "      <td>1</td>\n",
       "      <td>176</td>\n",
       "      <td>4</td>\n",
       "      <td>Beavis and Butt-head Do America (1996)</td>\n",
       "    </tr>\n",
       "    <tr>\n",
       "      <th>1</th>\n",
       "      <td>75</td>\n",
       "      <td>237</td>\n",
       "      <td>2</td>\n",
       "      <td>176</td>\n",
       "      <td>3</td>\n",
       "      <td>Jerry Maguire (1996)</td>\n",
       "    </tr>\n",
       "    <tr>\n",
       "      <th>2</th>\n",
       "      <td>75</td>\n",
       "      <td>475</td>\n",
       "      <td>5</td>\n",
       "      <td>176</td>\n",
       "      <td>5</td>\n",
       "      <td>Trainspotting (1996)</td>\n",
       "    </tr>\n",
       "    <tr>\n",
       "      <th>3</th>\n",
       "      <td>75</td>\n",
       "      <td>952</td>\n",
       "      <td>5</td>\n",
       "      <td>176</td>\n",
       "      <td>2</td>\n",
       "      <td>Blue in the Face (1995)</td>\n",
       "    </tr>\n",
       "    <tr>\n",
       "      <th>4</th>\n",
       "      <td>75</td>\n",
       "      <td>100</td>\n",
       "      <td>5</td>\n",
       "      <td>176</td>\n",
       "      <td>5</td>\n",
       "      <td>Fargo (1996)</td>\n",
       "    </tr>\n",
       "    <tr>\n",
       "      <th>5</th>\n",
       "      <td>75</td>\n",
       "      <td>151</td>\n",
       "      <td>5</td>\n",
       "      <td>176</td>\n",
       "      <td>4</td>\n",
       "      <td>Willy Wonka and the Chocolate Factory (1971)</td>\n",
       "    </tr>\n",
       "    <tr>\n",
       "      <th>6</th>\n",
       "      <td>75</td>\n",
       "      <td>273</td>\n",
       "      <td>5</td>\n",
       "      <td>176</td>\n",
       "      <td>4</td>\n",
       "      <td>Heat (1995)</td>\n",
       "    </tr>\n",
       "    <tr>\n",
       "      <th>7</th>\n",
       "      <td>75</td>\n",
       "      <td>294</td>\n",
       "      <td>3</td>\n",
       "      <td>176</td>\n",
       "      <td>2</td>\n",
       "      <td>Liar Liar (1997)</td>\n",
       "    </tr>\n",
       "    <tr>\n",
       "      <th>8</th>\n",
       "      <td>75</td>\n",
       "      <td>111</td>\n",
       "      <td>4</td>\n",
       "      <td>176</td>\n",
       "      <td>4</td>\n",
       "      <td>Truth About Cats &amp; Dogs, The (1996)</td>\n",
       "    </tr>\n",
       "    <tr>\n",
       "      <th>9</th>\n",
       "      <td>75</td>\n",
       "      <td>405</td>\n",
       "      <td>4</td>\n",
       "      <td>176</td>\n",
       "      <td>2</td>\n",
       "      <td>Mission: Impossible (1996)</td>\n",
       "    </tr>\n",
       "    <tr>\n",
       "      <th>10</th>\n",
       "      <td>75</td>\n",
       "      <td>13</td>\n",
       "      <td>5</td>\n",
       "      <td>176</td>\n",
       "      <td>4</td>\n",
       "      <td>Mighty Aphrodite (1995)</td>\n",
       "    </tr>\n",
       "    <tr>\n",
       "      <th>11</th>\n",
       "      <td>75</td>\n",
       "      <td>25</td>\n",
       "      <td>5</td>\n",
       "      <td>176</td>\n",
       "      <td>3</td>\n",
       "      <td>Birdcage, The (1996)</td>\n",
       "    </tr>\n",
       "    <tr>\n",
       "      <th>12</th>\n",
       "      <td>75</td>\n",
       "      <td>508</td>\n",
       "      <td>4</td>\n",
       "      <td>176</td>\n",
       "      <td>3</td>\n",
       "      <td>People vs. Larry Flynt, The (1996)</td>\n",
       "    </tr>\n",
       "    <tr>\n",
       "      <th>13</th>\n",
       "      <td>75</td>\n",
       "      <td>289</td>\n",
       "      <td>1</td>\n",
       "      <td>176</td>\n",
       "      <td>3</td>\n",
       "      <td>Evita (1996)</td>\n",
       "    </tr>\n",
       "    <tr>\n",
       "      <th>14</th>\n",
       "      <td>75</td>\n",
       "      <td>117</td>\n",
       "      <td>4</td>\n",
       "      <td>176</td>\n",
       "      <td>4</td>\n",
       "      <td>Rock, The (1996)</td>\n",
       "    </tr>\n",
       "    <tr>\n",
       "      <th>15</th>\n",
       "      <td>75</td>\n",
       "      <td>222</td>\n",
       "      <td>5</td>\n",
       "      <td>176</td>\n",
       "      <td>5</td>\n",
       "      <td>Star Trek: First Contact (1996)</td>\n",
       "    </tr>\n",
       "    <tr>\n",
       "      <th>16</th>\n",
       "      <td>75</td>\n",
       "      <td>129</td>\n",
       "      <td>3</td>\n",
       "      <td>176</td>\n",
       "      <td>3</td>\n",
       "      <td>Bound (1996)</td>\n",
       "    </tr>\n",
       "  </tbody>\n",
       "</table>\n",
       "</div>"
      ],
      "text/plain": [
       "    user_id_x  movie_id  rating_x  user_id_y  rating_y  \\\n",
       "0          75       240         1        176         4   \n",
       "1          75       237         2        176         3   \n",
       "2          75       475         5        176         5   \n",
       "3          75       952         5        176         2   \n",
       "4          75       100         5        176         5   \n",
       "5          75       151         5        176         4   \n",
       "6          75       273         5        176         4   \n",
       "7          75       294         3        176         2   \n",
       "8          75       111         4        176         4   \n",
       "9          75       405         4        176         2   \n",
       "10         75        13         5        176         4   \n",
       "11         75        25         5        176         3   \n",
       "12         75       508         4        176         3   \n",
       "13         75       289         1        176         3   \n",
       "14         75       117         4        176         4   \n",
       "15         75       222         5        176         5   \n",
       "16         75       129         3        176         3   \n",
       "\n",
       "                                     movie_title  \n",
       "0         Beavis and Butt-head Do America (1996)  \n",
       "1                           Jerry Maguire (1996)  \n",
       "2                           Trainspotting (1996)  \n",
       "3                        Blue in the Face (1995)  \n",
       "4                                   Fargo (1996)  \n",
       "5   Willy Wonka and the Chocolate Factory (1971)  \n",
       "6                                    Heat (1995)  \n",
       "7                               Liar Liar (1997)  \n",
       "8            Truth About Cats & Dogs, The (1996)  \n",
       "9                     Mission: Impossible (1996)  \n",
       "10                       Mighty Aphrodite (1995)  \n",
       "11                          Birdcage, The (1996)  \n",
       "12            People vs. Larry Flynt, The (1996)  \n",
       "13                                  Evita (1996)  \n",
       "14                              Rock, The (1996)  \n",
       "15               Star Trek: First Contact (1996)  \n",
       "16                                  Bound (1996)  "
      ]
     },
     "execution_count": 48,
     "metadata": {},
     "output_type": "execute_result"
    }
   ],
   "source": [
    "get_user_similar_movies(75, 176)"
   ]
  },
  {
   "cell_type": "markdown",
   "metadata": {},
   "source": [
    "### Checking movies from item-item similarity"
   ]
  },
  {
   "cell_type": "code",
   "execution_count": 49,
   "metadata": {},
   "outputs": [
    {
     "name": "stderr",
     "output_type": "stream",
     "text": [
      "/home/abhi/anaconda3/lib/python3.7/site-packages/ipykernel_launcher.py:1: FutureWarning: Method .as_matrix will be removed in a future version. Use .values instead.\n",
      "  \"\"\"Entry point for launching an IPython kernel.\n"
     ]
    }
   ],
   "source": [
    "movie_sim = 1 - pairwise_distances(movies_user_df.as_matrix(), metric=\"correlation\" )"
   ]
  },
  {
   "cell_type": "code",
   "execution_count": 50,
   "metadata": {},
   "outputs": [
    {
     "data": {
      "text/plain": [
       "(1682, 1682)"
      ]
     },
     "execution_count": 50,
     "metadata": {},
     "output_type": "execute_result"
    }
   ],
   "source": [
    "movie_sim.shape"
   ]
  },
  {
   "cell_type": "code",
   "execution_count": 51,
   "metadata": {},
   "outputs": [],
   "source": [
    "movie_sim_df = pd.DataFrame( movie_sim )"
   ]
  },
  {
   "cell_type": "code",
   "execution_count": 52,
   "metadata": {},
   "outputs": [
    {
     "data": {
      "text/html": [
       "<div>\n",
       "<style scoped>\n",
       "    .dataframe tbody tr th:only-of-type {\n",
       "        vertical-align: middle;\n",
       "    }\n",
       "\n",
       "    .dataframe tbody tr th {\n",
       "        vertical-align: top;\n",
       "    }\n",
       "\n",
       "    .dataframe thead th {\n",
       "        text-align: right;\n",
       "    }\n",
       "</style>\n",
       "<table border=\"1\" class=\"dataframe\">\n",
       "  <thead>\n",
       "    <tr style=\"text-align: right;\">\n",
       "      <th></th>\n",
       "      <th>0</th>\n",
       "      <th>1</th>\n",
       "      <th>2</th>\n",
       "      <th>3</th>\n",
       "      <th>4</th>\n",
       "      <th>5</th>\n",
       "      <th>6</th>\n",
       "      <th>7</th>\n",
       "      <th>8</th>\n",
       "      <th>9</th>\n",
       "      <th>...</th>\n",
       "      <th>1672</th>\n",
       "      <th>1673</th>\n",
       "      <th>1674</th>\n",
       "      <th>1675</th>\n",
       "      <th>1676</th>\n",
       "      <th>1677</th>\n",
       "      <th>1678</th>\n",
       "      <th>1679</th>\n",
       "      <th>1680</th>\n",
       "      <th>1681</th>\n",
       "    </tr>\n",
       "  </thead>\n",
       "  <tbody>\n",
       "    <tr>\n",
       "      <th>0</th>\n",
       "      <td>1.000000</td>\n",
       "      <td>0.234595</td>\n",
       "      <td>0.193362</td>\n",
       "      <td>0.226213</td>\n",
       "      <td>0.128840</td>\n",
       "      <td>0.015113</td>\n",
       "      <td>0.347354</td>\n",
       "      <td>0.254490</td>\n",
       "      <td>0.209502</td>\n",
       "      <td>0.104655</td>\n",
       "      <td>...</td>\n",
       "      <td>0.018215</td>\n",
       "      <td>-0.029676</td>\n",
       "      <td>-0.029676</td>\n",
       "      <td>-0.029676</td>\n",
       "      <td>0.018215</td>\n",
       "      <td>-0.029676</td>\n",
       "      <td>-0.029676</td>\n",
       "      <td>-0.029676</td>\n",
       "      <td>0.034179</td>\n",
       "      <td>0.034179</td>\n",
       "    </tr>\n",
       "    <tr>\n",
       "      <th>1</th>\n",
       "      <td>0.234595</td>\n",
       "      <td>1.000000</td>\n",
       "      <td>0.190649</td>\n",
       "      <td>0.409044</td>\n",
       "      <td>0.240712</td>\n",
       "      <td>0.030062</td>\n",
       "      <td>0.220022</td>\n",
       "      <td>0.206020</td>\n",
       "      <td>0.077894</td>\n",
       "      <td>0.072906</td>\n",
       "      <td>...</td>\n",
       "      <td>-0.012451</td>\n",
       "      <td>-0.012451</td>\n",
       "      <td>-0.012451</td>\n",
       "      <td>-0.012451</td>\n",
       "      <td>-0.012451</td>\n",
       "      <td>-0.012451</td>\n",
       "      <td>-0.012451</td>\n",
       "      <td>-0.012451</td>\n",
       "      <td>0.071415</td>\n",
       "      <td>0.071415</td>\n",
       "    </tr>\n",
       "    <tr>\n",
       "      <th>2</th>\n",
       "      <td>0.193362</td>\n",
       "      <td>0.190649</td>\n",
       "      <td>1.000000</td>\n",
       "      <td>0.227849</td>\n",
       "      <td>0.141368</td>\n",
       "      <td>0.065347</td>\n",
       "      <td>0.258855</td>\n",
       "      <td>0.078636</td>\n",
       "      <td>0.146181</td>\n",
       "      <td>0.079608</td>\n",
       "      <td>...</td>\n",
       "      <td>-0.009764</td>\n",
       "      <td>-0.009764</td>\n",
       "      <td>-0.009764</td>\n",
       "      <td>-0.009764</td>\n",
       "      <td>0.023964</td>\n",
       "      <td>-0.009764</td>\n",
       "      <td>-0.009764</td>\n",
       "      <td>-0.009764</td>\n",
       "      <td>-0.009764</td>\n",
       "      <td>0.091421</td>\n",
       "    </tr>\n",
       "    <tr>\n",
       "      <th>3</th>\n",
       "      <td>0.226213</td>\n",
       "      <td>0.409044</td>\n",
       "      <td>0.227849</td>\n",
       "      <td>1.000000</td>\n",
       "      <td>0.237298</td>\n",
       "      <td>0.021878</td>\n",
       "      <td>0.295489</td>\n",
       "      <td>0.352800</td>\n",
       "      <td>0.229922</td>\n",
       "      <td>0.138220</td>\n",
       "      <td>...</td>\n",
       "      <td>-0.016619</td>\n",
       "      <td>-0.016619</td>\n",
       "      <td>0.088984</td>\n",
       "      <td>0.088984</td>\n",
       "      <td>0.025622</td>\n",
       "      <td>-0.016619</td>\n",
       "      <td>-0.016619</td>\n",
       "      <td>-0.016619</td>\n",
       "      <td>0.046743</td>\n",
       "      <td>0.067863</td>\n",
       "    </tr>\n",
       "    <tr>\n",
       "      <th>4</th>\n",
       "      <td>0.128840</td>\n",
       "      <td>0.240712</td>\n",
       "      <td>0.141368</td>\n",
       "      <td>0.237298</td>\n",
       "      <td>1.000000</td>\n",
       "      <td>-0.008594</td>\n",
       "      <td>0.205289</td>\n",
       "      <td>0.145866</td>\n",
       "      <td>0.142541</td>\n",
       "      <td>-0.033746</td>\n",
       "      <td>...</td>\n",
       "      <td>-0.009889</td>\n",
       "      <td>-0.009889</td>\n",
       "      <td>-0.009889</td>\n",
       "      <td>-0.009889</td>\n",
       "      <td>-0.009889</td>\n",
       "      <td>-0.009889</td>\n",
       "      <td>-0.009889</td>\n",
       "      <td>-0.009889</td>\n",
       "      <td>-0.009889</td>\n",
       "      <td>0.088618</td>\n",
       "    </tr>\n",
       "    <tr>\n",
       "      <th>5</th>\n",
       "      <td>0.015113</td>\n",
       "      <td>0.030062</td>\n",
       "      <td>0.065347</td>\n",
       "      <td>0.021878</td>\n",
       "      <td>-0.008594</td>\n",
       "      <td>1.000000</td>\n",
       "      <td>0.054415</td>\n",
       "      <td>0.012330</td>\n",
       "      <td>0.079619</td>\n",
       "      <td>0.166084</td>\n",
       "      <td>...</td>\n",
       "      <td>-0.005159</td>\n",
       "      <td>-0.005159</td>\n",
       "      <td>-0.005159</td>\n",
       "      <td>-0.005159</td>\n",
       "      <td>-0.005159</td>\n",
       "      <td>-0.005159</td>\n",
       "      <td>-0.005159</td>\n",
       "      <td>-0.005159</td>\n",
       "      <td>-0.005159</td>\n",
       "      <td>-0.005159</td>\n",
       "    </tr>\n",
       "    <tr>\n",
       "      <th>6</th>\n",
       "      <td>0.347354</td>\n",
       "      <td>0.220022</td>\n",
       "      <td>0.258855</td>\n",
       "      <td>0.295489</td>\n",
       "      <td>0.205289</td>\n",
       "      <td>0.054415</td>\n",
       "      <td>1.000000</td>\n",
       "      <td>0.190670</td>\n",
       "      <td>0.286572</td>\n",
       "      <td>0.178505</td>\n",
       "      <td>...</td>\n",
       "      <td>-0.026036</td>\n",
       "      <td>0.039920</td>\n",
       "      <td>-0.026036</td>\n",
       "      <td>-0.026036</td>\n",
       "      <td>0.039920</td>\n",
       "      <td>-0.026036</td>\n",
       "      <td>-0.026036</td>\n",
       "      <td>-0.026036</td>\n",
       "      <td>0.039920</td>\n",
       "      <td>0.039920</td>\n",
       "    </tr>\n",
       "    <tr>\n",
       "      <th>7</th>\n",
       "      <td>0.254490</td>\n",
       "      <td>0.206020</td>\n",
       "      <td>0.078636</td>\n",
       "      <td>0.352800</td>\n",
       "      <td>0.145866</td>\n",
       "      <td>0.012330</td>\n",
       "      <td>0.190670</td>\n",
       "      <td>1.000000</td>\n",
       "      <td>0.229331</td>\n",
       "      <td>0.152679</td>\n",
       "      <td>...</td>\n",
       "      <td>-0.017230</td>\n",
       "      <td>0.075617</td>\n",
       "      <td>0.057047</td>\n",
       "      <td>0.057047</td>\n",
       "      <td>0.075617</td>\n",
       "      <td>-0.017230</td>\n",
       "      <td>-0.017230</td>\n",
       "      <td>-0.017230</td>\n",
       "      <td>0.075617</td>\n",
       "      <td>-0.017230</td>\n",
       "    </tr>\n",
       "    <tr>\n",
       "      <th>8</th>\n",
       "      <td>0.209502</td>\n",
       "      <td>0.077894</td>\n",
       "      <td>0.146181</td>\n",
       "      <td>0.229922</td>\n",
       "      <td>0.142541</td>\n",
       "      <td>0.079619</td>\n",
       "      <td>0.286572</td>\n",
       "      <td>0.229331</td>\n",
       "      <td>1.000000</td>\n",
       "      <td>0.158373</td>\n",
       "      <td>...</td>\n",
       "      <td>-0.021125</td>\n",
       "      <td>-0.021125</td>\n",
       "      <td>0.047273</td>\n",
       "      <td>0.047273</td>\n",
       "      <td>0.064372</td>\n",
       "      <td>-0.021125</td>\n",
       "      <td>-0.021125</td>\n",
       "      <td>-0.021125</td>\n",
       "      <td>0.047273</td>\n",
       "      <td>0.064372</td>\n",
       "    </tr>\n",
       "    <tr>\n",
       "      <th>9</th>\n",
       "      <td>0.104655</td>\n",
       "      <td>0.072906</td>\n",
       "      <td>0.079608</td>\n",
       "      <td>0.138220</td>\n",
       "      <td>-0.033746</td>\n",
       "      <td>0.166084</td>\n",
       "      <td>0.178505</td>\n",
       "      <td>0.152679</td>\n",
       "      <td>0.158373</td>\n",
       "      <td>1.000000</td>\n",
       "      <td>...</td>\n",
       "      <td>-0.010138</td>\n",
       "      <td>-0.010138</td>\n",
       "      <td>0.073967</td>\n",
       "      <td>0.073967</td>\n",
       "      <td>-0.010138</td>\n",
       "      <td>-0.010138</td>\n",
       "      <td>-0.010138</td>\n",
       "      <td>-0.010138</td>\n",
       "      <td>-0.010138</td>\n",
       "      <td>-0.010138</td>\n",
       "    </tr>\n",
       "  </tbody>\n",
       "</table>\n",
       "<p>10 rows × 1682 columns</p>\n",
       "</div>"
      ],
      "text/plain": [
       "       0         1         2         3         4         5         6     \\\n",
       "0  1.000000  0.234595  0.193362  0.226213  0.128840  0.015113  0.347354   \n",
       "1  0.234595  1.000000  0.190649  0.409044  0.240712  0.030062  0.220022   \n",
       "2  0.193362  0.190649  1.000000  0.227849  0.141368  0.065347  0.258855   \n",
       "3  0.226213  0.409044  0.227849  1.000000  0.237298  0.021878  0.295489   \n",
       "4  0.128840  0.240712  0.141368  0.237298  1.000000 -0.008594  0.205289   \n",
       "5  0.015113  0.030062  0.065347  0.021878 -0.008594  1.000000  0.054415   \n",
       "6  0.347354  0.220022  0.258855  0.295489  0.205289  0.054415  1.000000   \n",
       "7  0.254490  0.206020  0.078636  0.352800  0.145866  0.012330  0.190670   \n",
       "8  0.209502  0.077894  0.146181  0.229922  0.142541  0.079619  0.286572   \n",
       "9  0.104655  0.072906  0.079608  0.138220 -0.033746  0.166084  0.178505   \n",
       "\n",
       "       7         8         9       ...         1672      1673      1674  \\\n",
       "0  0.254490  0.209502  0.104655    ...     0.018215 -0.029676 -0.029676   \n",
       "1  0.206020  0.077894  0.072906    ...    -0.012451 -0.012451 -0.012451   \n",
       "2  0.078636  0.146181  0.079608    ...    -0.009764 -0.009764 -0.009764   \n",
       "3  0.352800  0.229922  0.138220    ...    -0.016619 -0.016619  0.088984   \n",
       "4  0.145866  0.142541 -0.033746    ...    -0.009889 -0.009889 -0.009889   \n",
       "5  0.012330  0.079619  0.166084    ...    -0.005159 -0.005159 -0.005159   \n",
       "6  0.190670  0.286572  0.178505    ...    -0.026036  0.039920 -0.026036   \n",
       "7  1.000000  0.229331  0.152679    ...    -0.017230  0.075617  0.057047   \n",
       "8  0.229331  1.000000  0.158373    ...    -0.021125 -0.021125  0.047273   \n",
       "9  0.152679  0.158373  1.000000    ...    -0.010138 -0.010138  0.073967   \n",
       "\n",
       "       1675      1676      1677      1678      1679      1680      1681  \n",
       "0 -0.029676  0.018215 -0.029676 -0.029676 -0.029676  0.034179  0.034179  \n",
       "1 -0.012451 -0.012451 -0.012451 -0.012451 -0.012451  0.071415  0.071415  \n",
       "2 -0.009764  0.023964 -0.009764 -0.009764 -0.009764 -0.009764  0.091421  \n",
       "3  0.088984  0.025622 -0.016619 -0.016619 -0.016619  0.046743  0.067863  \n",
       "4 -0.009889 -0.009889 -0.009889 -0.009889 -0.009889 -0.009889  0.088618  \n",
       "5 -0.005159 -0.005159 -0.005159 -0.005159 -0.005159 -0.005159 -0.005159  \n",
       "6 -0.026036  0.039920 -0.026036 -0.026036 -0.026036  0.039920  0.039920  \n",
       "7  0.057047  0.075617 -0.017230 -0.017230 -0.017230  0.075617 -0.017230  \n",
       "8  0.047273  0.064372 -0.021125 -0.021125 -0.021125  0.047273  0.064372  \n",
       "9  0.073967 -0.010138 -0.010138 -0.010138 -0.010138 -0.010138 -0.010138  \n",
       "\n",
       "[10 rows x 1682 columns]"
      ]
     },
     "execution_count": 52,
     "metadata": {},
     "output_type": "execute_result"
    }
   ],
   "source": [
    "movie_sim_df.head(10)"
   ]
  },
  {
   "cell_type": "code",
   "execution_count": 53,
   "metadata": {},
   "outputs": [
    {
     "data": {
      "text/html": [
       "<div>\n",
       "<style scoped>\n",
       "    .dataframe tbody tr th:only-of-type {\n",
       "        vertical-align: middle;\n",
       "    }\n",
       "\n",
       "    .dataframe tbody tr th {\n",
       "        vertical-align: top;\n",
       "    }\n",
       "\n",
       "    .dataframe thead th {\n",
       "        text-align: right;\n",
       "    }\n",
       "</style>\n",
       "<table border=\"1\" class=\"dataframe\">\n",
       "  <thead>\n",
       "    <tr style=\"text-align: right;\">\n",
       "      <th></th>\n",
       "      <th>movieid</th>\n",
       "      <th>title</th>\n",
       "      <th>similarity</th>\n",
       "    </tr>\n",
       "  </thead>\n",
       "  <tbody>\n",
       "    <tr>\n",
       "      <th>0</th>\n",
       "      <td>1</td>\n",
       "      <td>Toy Story (1995)</td>\n",
       "      <td>1.000000</td>\n",
       "    </tr>\n",
       "    <tr>\n",
       "      <th>1</th>\n",
       "      <td>2</td>\n",
       "      <td>GoldenEye (1995)</td>\n",
       "      <td>0.234595</td>\n",
       "    </tr>\n",
       "    <tr>\n",
       "      <th>2</th>\n",
       "      <td>3</td>\n",
       "      <td>Four Rooms (1995)</td>\n",
       "      <td>0.193362</td>\n",
       "    </tr>\n",
       "    <tr>\n",
       "      <th>3</th>\n",
       "      <td>4</td>\n",
       "      <td>Get Shorty (1995)</td>\n",
       "      <td>0.226213</td>\n",
       "    </tr>\n",
       "    <tr>\n",
       "      <th>4</th>\n",
       "      <td>5</td>\n",
       "      <td>Copycat (1995)</td>\n",
       "      <td>0.128840</td>\n",
       "    </tr>\n",
       "  </tbody>\n",
       "</table>\n",
       "</div>"
      ],
      "text/plain": [
       "   movieid              title  similarity\n",
       "0        1   Toy Story (1995)    1.000000\n",
       "1        2   GoldenEye (1995)    0.234595\n",
       "2        3  Four Rooms (1995)    0.193362\n",
       "3        4  Get Shorty (1995)    0.226213\n",
       "4        5     Copycat (1995)    0.128840"
      ]
     },
     "execution_count": 53,
     "metadata": {},
     "output_type": "execute_result"
    }
   ],
   "source": [
    "#Appending movie similarity column of movie 0 (Toy Story) to the movies_df table to find similarity with other movies\n",
    "movies_df['similarity'] = movie_sim_df.iloc[0]\n",
    "movies_df.columns = ['movieid', 'title', 'similarity']\n",
    "movies_df.head()"
   ]
  },
  {
   "cell_type": "code",
   "execution_count": 54,
   "metadata": {},
   "outputs": [
    {
     "data": {
      "text/html": [
       "<div>\n",
       "<style scoped>\n",
       "    .dataframe tbody tr th:only-of-type {\n",
       "        vertical-align: middle;\n",
       "    }\n",
       "\n",
       "    .dataframe tbody tr th {\n",
       "        vertical-align: top;\n",
       "    }\n",
       "\n",
       "    .dataframe thead th {\n",
       "        text-align: right;\n",
       "    }\n",
       "</style>\n",
       "<table border=\"1\" class=\"dataframe\">\n",
       "  <thead>\n",
       "    <tr style=\"text-align: right;\">\n",
       "      <th></th>\n",
       "      <th>movieid</th>\n",
       "      <th>title</th>\n",
       "      <th>similarity</th>\n",
       "    </tr>\n",
       "  </thead>\n",
       "  <tbody>\n",
       "    <tr>\n",
       "      <th>49</th>\n",
       "      <td>50</td>\n",
       "      <td>Star Wars (1977)</td>\n",
       "      <td>0.457677</td>\n",
       "    </tr>\n",
       "    <tr>\n",
       "      <th>120</th>\n",
       "      <td>121</td>\n",
       "      <td>Independence Day (ID4) (1996)</td>\n",
       "      <td>0.454544</td>\n",
       "    </tr>\n",
       "    <tr>\n",
       "      <th>116</th>\n",
       "      <td>117</td>\n",
       "      <td>Rock, The (1996)</td>\n",
       "      <td>0.431789</td>\n",
       "    </tr>\n",
       "    <tr>\n",
       "      <th>150</th>\n",
       "      <td>151</td>\n",
       "      <td>Willy Wonka and the Chocolate Factory (1971)</td>\n",
       "      <td>0.423975</td>\n",
       "    </tr>\n",
       "  </tbody>\n",
       "</table>\n",
       "</div>"
      ],
      "text/plain": [
       "     movieid                                         title  similarity\n",
       "49        50                              Star Wars (1977)    0.457677\n",
       "120      121                 Independence Day (ID4) (1996)    0.454544\n",
       "116      117                              Rock, The (1996)    0.431789\n",
       "150      151  Willy Wonka and the Chocolate Factory (1971)    0.423975"
      ]
     },
     "execution_count": 54,
     "metadata": {},
     "output_type": "execute_result"
    }
   ],
   "source": [
    "movies_df.sort_values([\"similarity\"], ascending = False)[1:5]"
   ]
  },
  {
   "cell_type": "code",
   "execution_count": 67,
   "metadata": {},
   "outputs": [],
   "source": [
    "#Function to find similar movies\n",
    "def get_similar_movies( movieid, topN = 5 ):\n",
    "  movies_df['similarity'] = movie_sim_df.iloc[movieid -1]\n",
    "  top_n = movies_df.sort_values( [\"similarity\"], ascending = False )[1:topN+1]\n",
    "  print( \"Similar Movies to\",movies_df.title[movieid-1] )\n",
    "  return top_n"
   ]
  },
  {
   "cell_type": "markdown",
   "metadata": {},
   "source": [
    "### Movie Predictions"
   ]
  },
  {
   "cell_type": "code",
   "execution_count": 68,
   "metadata": {},
   "outputs": [
    {
     "name": "stdout",
     "output_type": "stream",
     "text": [
      "Similar Movies to Balto (1995)\n"
     ]
    },
    {
     "data": {
      "text/html": [
       "<div>\n",
       "<style scoped>\n",
       "    .dataframe tbody tr th:only-of-type {\n",
       "        vertical-align: middle;\n",
       "    }\n",
       "\n",
       "    .dataframe tbody tr th {\n",
       "        vertical-align: top;\n",
       "    }\n",
       "\n",
       "    .dataframe thead th {\n",
       "        text-align: right;\n",
       "    }\n",
       "</style>\n",
       "<table border=\"1\" class=\"dataframe\">\n",
       "  <thead>\n",
       "    <tr style=\"text-align: right;\">\n",
       "      <th></th>\n",
       "      <th>movieid</th>\n",
       "      <th>title</th>\n",
       "      <th>similarity</th>\n",
       "    </tr>\n",
       "  </thead>\n",
       "  <tbody>\n",
       "    <tr>\n",
       "      <th>1077</th>\n",
       "      <td>1078</td>\n",
       "      <td>Oliver &amp; Company (1988)</td>\n",
       "      <td>0.361455</td>\n",
       "    </tr>\n",
       "    <tr>\n",
       "      <th>541</th>\n",
       "      <td>542</td>\n",
       "      <td>Pocahontas (1995)</td>\n",
       "      <td>0.360779</td>\n",
       "    </tr>\n",
       "    <tr>\n",
       "      <th>945</th>\n",
       "      <td>946</td>\n",
       "      <td>Fox and the Hound, The (1981)</td>\n",
       "      <td>0.320334</td>\n",
       "    </tr>\n",
       "    <tr>\n",
       "      <th>101</th>\n",
       "      <td>102</td>\n",
       "      <td>Aristocats, The (1970)</td>\n",
       "      <td>0.311160</td>\n",
       "    </tr>\n",
       "    <tr>\n",
       "      <th>1535</th>\n",
       "      <td>1536</td>\n",
       "      <td>Aiqing wansui (1994)</td>\n",
       "      <td>0.308954</td>\n",
       "    </tr>\n",
       "  </tbody>\n",
       "</table>\n",
       "</div>"
      ],
      "text/plain": [
       "      movieid                          title  similarity\n",
       "1077     1078        Oliver & Company (1988)    0.361455\n",
       "541       542              Pocahontas (1995)    0.360779\n",
       "945       946  Fox and the Hound, The (1981)    0.320334\n",
       "101       102         Aristocats, The (1970)    0.311160\n",
       "1535     1536           Aiqing wansui (1994)    0.308954"
      ]
     },
     "execution_count": 68,
     "metadata": {},
     "output_type": "execute_result"
    }
   ],
   "source": [
    "#Children's movies\n",
    "get_similar_movies(1066)"
   ]
  },
  {
   "cell_type": "code",
   "execution_count": 69,
   "metadata": {},
   "outputs": [
    {
     "name": "stdout",
     "output_type": "stream",
     "text": [
      "Similar Movies to GoldenEye (1995)\n"
     ]
    },
    {
     "data": {
      "text/html": [
       "<div>\n",
       "<style scoped>\n",
       "    .dataframe tbody tr th:only-of-type {\n",
       "        vertical-align: middle;\n",
       "    }\n",
       "\n",
       "    .dataframe tbody tr th {\n",
       "        vertical-align: top;\n",
       "    }\n",
       "\n",
       "    .dataframe thead th {\n",
       "        text-align: right;\n",
       "    }\n",
       "</style>\n",
       "<table border=\"1\" class=\"dataframe\">\n",
       "  <thead>\n",
       "    <tr style=\"text-align: right;\">\n",
       "      <th></th>\n",
       "      <th>movieid</th>\n",
       "      <th>title</th>\n",
       "      <th>similarity</th>\n",
       "    </tr>\n",
       "  </thead>\n",
       "  <tbody>\n",
       "    <tr>\n",
       "      <th>232</th>\n",
       "      <td>233</td>\n",
       "      <td>Under Siege (1992)</td>\n",
       "      <td>0.611494</td>\n",
       "    </tr>\n",
       "    <tr>\n",
       "      <th>575</th>\n",
       "      <td>576</td>\n",
       "      <td>Cliffhanger (1993)</td>\n",
       "      <td>0.555861</td>\n",
       "    </tr>\n",
       "    <tr>\n",
       "      <th>160</th>\n",
       "      <td>161</td>\n",
       "      <td>Top Gun (1986)</td>\n",
       "      <td>0.553483</td>\n",
       "    </tr>\n",
       "    <tr>\n",
       "      <th>61</th>\n",
       "      <td>62</td>\n",
       "      <td>Stargate (1994)</td>\n",
       "      <td>0.548701</td>\n",
       "    </tr>\n",
       "    <tr>\n",
       "      <th>384</th>\n",
       "      <td>385</td>\n",
       "      <td>True Lies (1994)</td>\n",
       "      <td>0.547434</td>\n",
       "    </tr>\n",
       "  </tbody>\n",
       "</table>\n",
       "</div>"
      ],
      "text/plain": [
       "     movieid               title  similarity\n",
       "232      233  Under Siege (1992)    0.611494\n",
       "575      576  Cliffhanger (1993)    0.555861\n",
       "160      161      Top Gun (1986)    0.553483\n",
       "61        62     Stargate (1994)    0.548701\n",
       "384      385    True Lies (1994)    0.547434"
      ]
     },
     "execution_count": 69,
     "metadata": {},
     "output_type": "execute_result"
    }
   ],
   "source": [
    "#Action movies\n",
    "get_similar_movies(2)"
   ]
  },
  {
   "cell_type": "code",
   "execution_count": 70,
   "metadata": {},
   "outputs": [
    {
     "name": "stdout",
     "output_type": "stream",
     "text": [
      "Similar Movies to Casino (1995)\n"
     ]
    },
    {
     "data": {
      "text/html": [
       "<div>\n",
       "<style scoped>\n",
       "    .dataframe tbody tr th:only-of-type {\n",
       "        vertical-align: middle;\n",
       "    }\n",
       "\n",
       "    .dataframe tbody tr th {\n",
       "        vertical-align: top;\n",
       "    }\n",
       "\n",
       "    .dataframe thead th {\n",
       "        text-align: right;\n",
       "    }\n",
       "</style>\n",
       "<table border=\"1\" class=\"dataframe\">\n",
       "  <thead>\n",
       "    <tr style=\"text-align: right;\">\n",
       "      <th></th>\n",
       "      <th>movieid</th>\n",
       "      <th>title</th>\n",
       "      <th>similarity</th>\n",
       "    </tr>\n",
       "  </thead>\n",
       "  <tbody>\n",
       "    <tr>\n",
       "      <th>181</th>\n",
       "      <td>182</td>\n",
       "      <td>GoodFellas (1990)</td>\n",
       "      <td>0.510615</td>\n",
       "    </tr>\n",
       "    <tr>\n",
       "      <th>217</th>\n",
       "      <td>218</td>\n",
       "      <td>Cape Fear (1991)</td>\n",
       "      <td>0.436671</td>\n",
       "    </tr>\n",
       "    <tr>\n",
       "      <th>10</th>\n",
       "      <td>11</td>\n",
       "      <td>Seven (Se7en) (1995)</td>\n",
       "      <td>0.433354</td>\n",
       "    </tr>\n",
       "    <tr>\n",
       "      <th>941</th>\n",
       "      <td>942</td>\n",
       "      <td>What's Love Got to Do with It (1993)</td>\n",
       "      <td>0.409532</td>\n",
       "    </tr>\n",
       "    <tr>\n",
       "      <th>55</th>\n",
       "      <td>56</td>\n",
       "      <td>Pulp Fiction (1994)</td>\n",
       "      <td>0.391973</td>\n",
       "    </tr>\n",
       "  </tbody>\n",
       "</table>\n",
       "</div>"
      ],
      "text/plain": [
       "     movieid                                 title  similarity\n",
       "181      182                     GoodFellas (1990)    0.510615\n",
       "217      218                      Cape Fear (1991)    0.436671\n",
       "10        11                  Seven (Se7en) (1995)    0.433354\n",
       "941      942  What's Love Got to Do with It (1993)    0.409532\n",
       "55        56                   Pulp Fiction (1994)    0.391973"
      ]
     },
     "execution_count": 70,
     "metadata": {},
     "output_type": "execute_result"
    }
   ],
   "source": [
    "#Drama movies\n",
    "get_similar_movies(693)"
   ]
  },
  {
   "cell_type": "code",
   "execution_count": 71,
   "metadata": {},
   "outputs": [
    {
     "name": "stdout",
     "output_type": "stream",
     "text": [
      "Similar Movies to Bed of Roses (1996)\n"
     ]
    },
    {
     "data": {
      "text/html": [
       "<div>\n",
       "<style scoped>\n",
       "    .dataframe tbody tr th:only-of-type {\n",
       "        vertical-align: middle;\n",
       "    }\n",
       "\n",
       "    .dataframe tbody tr th {\n",
       "        vertical-align: top;\n",
       "    }\n",
       "\n",
       "    .dataframe thead th {\n",
       "        text-align: right;\n",
       "    }\n",
       "</style>\n",
       "<table border=\"1\" class=\"dataframe\">\n",
       "  <thead>\n",
       "    <tr style=\"text-align: right;\">\n",
       "      <th></th>\n",
       "      <th>movieid</th>\n",
       "      <th>title</th>\n",
       "      <th>similarity</th>\n",
       "    </tr>\n",
       "  </thead>\n",
       "  <tbody>\n",
       "    <tr>\n",
       "      <th>279</th>\n",
       "      <td>280</td>\n",
       "      <td>Up Close and Personal (1996)</td>\n",
       "      <td>0.394083</td>\n",
       "    </tr>\n",
       "    <tr>\n",
       "      <th>820</th>\n",
       "      <td>821</td>\n",
       "      <td>Mrs. Winterbourne (1996)</td>\n",
       "      <td>0.383507</td>\n",
       "    </tr>\n",
       "    <tr>\n",
       "      <th>1052</th>\n",
       "      <td>1053</td>\n",
       "      <td>Now and Then (1995)</td>\n",
       "      <td>0.381290</td>\n",
       "    </tr>\n",
       "    <tr>\n",
       "      <th>814</th>\n",
       "      <td>815</td>\n",
       "      <td>One Fine Day (1996)</td>\n",
       "      <td>0.350410</td>\n",
       "    </tr>\n",
       "    <tr>\n",
       "      <th>933</th>\n",
       "      <td>934</td>\n",
       "      <td>Preacher's Wife, The (1996)</td>\n",
       "      <td>0.341928</td>\n",
       "    </tr>\n",
       "  </tbody>\n",
       "</table>\n",
       "</div>"
      ],
      "text/plain": [
       "      movieid                         title  similarity\n",
       "279       280  Up Close and Personal (1996)    0.394083\n",
       "820       821      Mrs. Winterbourne (1996)    0.383507\n",
       "1052     1053           Now and Then (1995)    0.381290\n",
       "814       815           One Fine Day (1996)    0.350410\n",
       "933       934   Preacher's Wife, The (1996)    0.341928"
      ]
     },
     "execution_count": 71,
     "metadata": {},
     "output_type": "execute_result"
    }
   ],
   "source": [
    "#Romance movies\n",
    "get_similar_movies(278)"
   ]
  },
  {
   "cell_type": "markdown",
   "metadata": {},
   "source": [
    "## Conclusion"
   ]
  },
  {
   "cell_type": "markdown",
   "metadata": {},
   "source": [
    "Pros of Memory-based Collaborative Filtering:\n",
    "- Implement is much easier than other methods.\n",
    "- The prediction performance is good.\n",
    "- When compared to other simpler algorithms, this method takes into account and corrects average rating.\n",
    "\n",
    "\n",
    "Cons of Memory-based Collaborative Filtering:\n",
    "- It usually recommends the more popular items.\n",
    "- When new user or new item entered the system, it does not predict make accurate predictions.\n"
   ]
  },
  {
   "cell_type": "code",
   "execution_count": null,
   "metadata": {},
   "outputs": [],
   "source": []
  }
 ],
 "metadata": {
  "kernelspec": {
   "display_name": "Python 3",
   "language": "python",
   "name": "python3"
  },
  "language_info": {
   "codemirror_mode": {
    "name": "ipython",
    "version": 3
   },
   "file_extension": ".py",
   "mimetype": "text/x-python",
   "name": "python",
   "nbconvert_exporter": "python",
   "pygments_lexer": "ipython3",
   "version": "3.7.1"
  }
 },
 "nbformat": 4,
 "nbformat_minor": 2
}
